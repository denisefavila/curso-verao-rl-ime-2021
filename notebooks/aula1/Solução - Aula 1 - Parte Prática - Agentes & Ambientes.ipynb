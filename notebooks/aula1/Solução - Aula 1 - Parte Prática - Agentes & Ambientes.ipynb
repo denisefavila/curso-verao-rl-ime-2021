{
 "cells": [
  {
   "cell_type": "markdown",
   "metadata": {},
   "source": [
    "# Solução - Aula 1 - Parte Prática - Agentes & Ambientes"
   ]
  },
  {
   "cell_type": "markdown",
   "metadata": {},
   "source": [
    "## Introdução\n",
    "\n",
    "Nesse primeiro notebook iremos aprender sobre a API do [OpenAI Gym](http://gym.openai.com/) e começaremos a implementar alguns componentes de um agente de RL.\n",
    "Ao final dessa parte prática teremos implementado o **ciclo de interação Agente-Ambiente** que nos permitirá futuramente treinar o agente e avaliar sua performance.\n",
    "\n",
    "<img src=\"img/agent-env-loop.png\" alt=\"Agent-Env Loop\" style=\"width: 450px;\"/>\n",
    "\n",
    "\n",
    "### Objetivos:\n",
    "\n",
    "- Relacionar os conceitos de Processos de Decisão Markovianos (MDPs) com os atributos e métodos de um ambiente definido com o OpenAI Gym;\n",
    "- Familiarizar-se com os componentes básicos de um agente de RL;\n",
    "- Implementar o ciclo de interação Agente-Ambiente; e\n",
    "- Implementar um primeiro agente aleatório e avaliar sua performance"
   ]
  },
  {
   "cell_type": "markdown",
   "metadata": {},
   "source": [
    "### Imports\n",
    "\n",
    "> **Atenção:** não se esqueça de executar todos os `imports` necessários antes prosseguir com o tutorial. "
   ]
  },
  {
   "cell_type": "code",
   "execution_count": 1,
   "metadata": {},
   "outputs": [
    {
     "data": {
      "text/html": [
       "\n",
       "    <div class=\"bk-root\">\n",
       "        <a href=\"https://bokeh.org\" target=\"_blank\" class=\"bk-logo bk-logo-small bk-logo-notebook\"></a>\n",
       "        <span id=\"1001\">Loading BokehJS ...</span>\n",
       "    </div>"
      ]
     },
     "metadata": {},
     "output_type": "display_data"
    },
    {
     "data": {
      "application/javascript": [
       "\n",
       "(function(root) {\n",
       "  function now() {\n",
       "    return new Date();\n",
       "  }\n",
       "\n",
       "  var force = true;\n",
       "\n",
       "  if (typeof root._bokeh_onload_callbacks === \"undefined\" || force === true) {\n",
       "    root._bokeh_onload_callbacks = [];\n",
       "    root._bokeh_is_loading = undefined;\n",
       "  }\n",
       "\n",
       "  var JS_MIME_TYPE = 'application/javascript';\n",
       "  var HTML_MIME_TYPE = 'text/html';\n",
       "  var EXEC_MIME_TYPE = 'application/vnd.bokehjs_exec.v0+json';\n",
       "  var CLASS_NAME = 'output_bokeh rendered_html';\n",
       "\n",
       "  /**\n",
       "   * Render data to the DOM node\n",
       "   */\n",
       "  function render(props, node) {\n",
       "    var script = document.createElement(\"script\");\n",
       "    node.appendChild(script);\n",
       "  }\n",
       "\n",
       "  /**\n",
       "   * Handle when an output is cleared or removed\n",
       "   */\n",
       "  function handleClearOutput(event, handle) {\n",
       "    var cell = handle.cell;\n",
       "\n",
       "    var id = cell.output_area._bokeh_element_id;\n",
       "    var server_id = cell.output_area._bokeh_server_id;\n",
       "    // Clean up Bokeh references\n",
       "    if (id != null && id in Bokeh.index) {\n",
       "      Bokeh.index[id].model.document.clear();\n",
       "      delete Bokeh.index[id];\n",
       "    }\n",
       "\n",
       "    if (server_id !== undefined) {\n",
       "      // Clean up Bokeh references\n",
       "      var cmd = \"from bokeh.io.state import curstate; print(curstate().uuid_to_server['\" + server_id + \"'].get_sessions()[0].document.roots[0]._id)\";\n",
       "      cell.notebook.kernel.execute(cmd, {\n",
       "        iopub: {\n",
       "          output: function(msg) {\n",
       "            var id = msg.content.text.trim();\n",
       "            if (id in Bokeh.index) {\n",
       "              Bokeh.index[id].model.document.clear();\n",
       "              delete Bokeh.index[id];\n",
       "            }\n",
       "          }\n",
       "        }\n",
       "      });\n",
       "      // Destroy server and session\n",
       "      var cmd = \"import bokeh.io.notebook as ion; ion.destroy_server('\" + server_id + \"')\";\n",
       "      cell.notebook.kernel.execute(cmd);\n",
       "    }\n",
       "  }\n",
       "\n",
       "  /**\n",
       "   * Handle when a new output is added\n",
       "   */\n",
       "  function handleAddOutput(event, handle) {\n",
       "    var output_area = handle.output_area;\n",
       "    var output = handle.output;\n",
       "\n",
       "    // limit handleAddOutput to display_data with EXEC_MIME_TYPE content only\n",
       "    if ((output.output_type != \"display_data\") || (!output.data.hasOwnProperty(EXEC_MIME_TYPE))) {\n",
       "      return\n",
       "    }\n",
       "\n",
       "    var toinsert = output_area.element.find(\".\" + CLASS_NAME.split(' ')[0]);\n",
       "\n",
       "    if (output.metadata[EXEC_MIME_TYPE][\"id\"] !== undefined) {\n",
       "      toinsert[toinsert.length - 1].firstChild.textContent = output.data[JS_MIME_TYPE];\n",
       "      // store reference to embed id on output_area\n",
       "      output_area._bokeh_element_id = output.metadata[EXEC_MIME_TYPE][\"id\"];\n",
       "    }\n",
       "    if (output.metadata[EXEC_MIME_TYPE][\"server_id\"] !== undefined) {\n",
       "      var bk_div = document.createElement(\"div\");\n",
       "      bk_div.innerHTML = output.data[HTML_MIME_TYPE];\n",
       "      var script_attrs = bk_div.children[0].attributes;\n",
       "      for (var i = 0; i < script_attrs.length; i++) {\n",
       "        toinsert[toinsert.length - 1].firstChild.setAttribute(script_attrs[i].name, script_attrs[i].value);\n",
       "        toinsert[toinsert.length - 1].firstChild.textContent = bk_div.children[0].textContent\n",
       "      }\n",
       "      // store reference to server id on output_area\n",
       "      output_area._bokeh_server_id = output.metadata[EXEC_MIME_TYPE][\"server_id\"];\n",
       "    }\n",
       "  }\n",
       "\n",
       "  function register_renderer(events, OutputArea) {\n",
       "\n",
       "    function append_mime(data, metadata, element) {\n",
       "      // create a DOM node to render to\n",
       "      var toinsert = this.create_output_subarea(\n",
       "        metadata,\n",
       "        CLASS_NAME,\n",
       "        EXEC_MIME_TYPE\n",
       "      );\n",
       "      this.keyboard_manager.register_events(toinsert);\n",
       "      // Render to node\n",
       "      var props = {data: data, metadata: metadata[EXEC_MIME_TYPE]};\n",
       "      render(props, toinsert[toinsert.length - 1]);\n",
       "      element.append(toinsert);\n",
       "      return toinsert\n",
       "    }\n",
       "\n",
       "    /* Handle when an output is cleared or removed */\n",
       "    events.on('clear_output.CodeCell', handleClearOutput);\n",
       "    events.on('delete.Cell', handleClearOutput);\n",
       "\n",
       "    /* Handle when a new output is added */\n",
       "    events.on('output_added.OutputArea', handleAddOutput);\n",
       "\n",
       "    /**\n",
       "     * Register the mime type and append_mime function with output_area\n",
       "     */\n",
       "    OutputArea.prototype.register_mime_type(EXEC_MIME_TYPE, append_mime, {\n",
       "      /* Is output safe? */\n",
       "      safe: true,\n",
       "      /* Index of renderer in `output_area.display_order` */\n",
       "      index: 0\n",
       "    });\n",
       "  }\n",
       "\n",
       "  // register the mime type if in Jupyter Notebook environment and previously unregistered\n",
       "  if (root.Jupyter !== undefined) {\n",
       "    var events = require('base/js/events');\n",
       "    var OutputArea = require('notebook/js/outputarea').OutputArea;\n",
       "\n",
       "    if (OutputArea.prototype.mime_types().indexOf(EXEC_MIME_TYPE) == -1) {\n",
       "      register_renderer(events, OutputArea);\n",
       "    }\n",
       "  }\n",
       "\n",
       "  \n",
       "  if (typeof (root._bokeh_timeout) === \"undefined\" || force === true) {\n",
       "    root._bokeh_timeout = Date.now() + 5000;\n",
       "    root._bokeh_failed_load = false;\n",
       "  }\n",
       "\n",
       "  var NB_LOAD_WARNING = {'data': {'text/html':\n",
       "     \"<div style='background-color: #fdd'>\\n\"+\n",
       "     \"<p>\\n\"+\n",
       "     \"BokehJS does not appear to have successfully loaded. If loading BokehJS from CDN, this \\n\"+\n",
       "     \"may be due to a slow or bad network connection. Possible fixes:\\n\"+\n",
       "     \"</p>\\n\"+\n",
       "     \"<ul>\\n\"+\n",
       "     \"<li>re-rerun `output_notebook()` to attempt to load from CDN again, or</li>\\n\"+\n",
       "     \"<li>use INLINE resources instead, as so:</li>\\n\"+\n",
       "     \"</ul>\\n\"+\n",
       "     \"<code>\\n\"+\n",
       "     \"from bokeh.resources import INLINE\\n\"+\n",
       "     \"output_notebook(resources=INLINE)\\n\"+\n",
       "     \"</code>\\n\"+\n",
       "     \"</div>\"}};\n",
       "\n",
       "  function display_loaded() {\n",
       "    var el = document.getElementById(\"1001\");\n",
       "    if (el != null) {\n",
       "      el.textContent = \"BokehJS is loading...\";\n",
       "    }\n",
       "    if (root.Bokeh !== undefined) {\n",
       "      if (el != null) {\n",
       "        el.textContent = \"BokehJS \" + root.Bokeh.version + \" successfully loaded.\";\n",
       "      }\n",
       "    } else if (Date.now() < root._bokeh_timeout) {\n",
       "      setTimeout(display_loaded, 100)\n",
       "    }\n",
       "  }\n",
       "\n",
       "\n",
       "  function run_callbacks() {\n",
       "    try {\n",
       "      root._bokeh_onload_callbacks.forEach(function(callback) {\n",
       "        if (callback != null)\n",
       "          callback();\n",
       "      });\n",
       "    } finally {\n",
       "      delete root._bokeh_onload_callbacks\n",
       "    }\n",
       "    console.debug(\"Bokeh: all callbacks have finished\");\n",
       "  }\n",
       "\n",
       "  function load_libs(css_urls, js_urls, callback) {\n",
       "    if (css_urls == null) css_urls = [];\n",
       "    if (js_urls == null) js_urls = [];\n",
       "\n",
       "    root._bokeh_onload_callbacks.push(callback);\n",
       "    if (root._bokeh_is_loading > 0) {\n",
       "      console.debug(\"Bokeh: BokehJS is being loaded, scheduling callback at\", now());\n",
       "      return null;\n",
       "    }\n",
       "    if (js_urls == null || js_urls.length === 0) {\n",
       "      run_callbacks();\n",
       "      return null;\n",
       "    }\n",
       "    console.debug(\"Bokeh: BokehJS not loaded, scheduling load and callback at\", now());\n",
       "    root._bokeh_is_loading = css_urls.length + js_urls.length;\n",
       "\n",
       "    function on_load() {\n",
       "      root._bokeh_is_loading--;\n",
       "      if (root._bokeh_is_loading === 0) {\n",
       "        console.debug(\"Bokeh: all BokehJS libraries/stylesheets loaded\");\n",
       "        run_callbacks()\n",
       "      }\n",
       "    }\n",
       "\n",
       "    function on_error() {\n",
       "      console.error(\"failed to load \" + url);\n",
       "    }\n",
       "\n",
       "    for (var i = 0; i < css_urls.length; i++) {\n",
       "      var url = css_urls[i];\n",
       "      const element = document.createElement(\"link\");\n",
       "      element.onload = on_load;\n",
       "      element.onerror = on_error;\n",
       "      element.rel = \"stylesheet\";\n",
       "      element.type = \"text/css\";\n",
       "      element.href = url;\n",
       "      console.debug(\"Bokeh: injecting link tag for BokehJS stylesheet: \", url);\n",
       "      document.body.appendChild(element);\n",
       "    }\n",
       "\n",
       "    const hashes = {\"https://cdn.bokeh.org/bokeh/release/bokeh-2.2.3.min.js\": \"T2yuo9Oe71Cz/I4X9Ac5+gpEa5a8PpJCDlqKYO0CfAuEszu1JrXLl8YugMqYe3sM\", \"https://cdn.bokeh.org/bokeh/release/bokeh-widgets-2.2.3.min.js\": \"98GDGJ0kOMCUMUePhksaQ/GYgB3+NH9h996V88sh3aOiUNX3N+fLXAtry6xctSZ6\", \"https://cdn.bokeh.org/bokeh/release/bokeh-tables-2.2.3.min.js\": \"89bArO+nlbP3sgakeHjCo1JYxYR5wufVgA3IbUvDY+K7w4zyxJqssu7wVnfeKCq8\"};\n",
       "\n",
       "    for (var i = 0; i < js_urls.length; i++) {\n",
       "      var url = js_urls[i];\n",
       "      var element = document.createElement('script');\n",
       "      element.onload = on_load;\n",
       "      element.onerror = on_error;\n",
       "      element.async = false;\n",
       "      element.src = url;\n",
       "      if (url in hashes) {\n",
       "        element.crossOrigin = \"anonymous\";\n",
       "        element.integrity = \"sha384-\" + hashes[url];\n",
       "      }\n",
       "      console.debug(\"Bokeh: injecting script tag for BokehJS library: \", url);\n",
       "      document.head.appendChild(element);\n",
       "    }\n",
       "  };\n",
       "\n",
       "  function inject_raw_css(css) {\n",
       "    const element = document.createElement(\"style\");\n",
       "    element.appendChild(document.createTextNode(css));\n",
       "    document.body.appendChild(element);\n",
       "  }\n",
       "\n",
       "  \n",
       "  var js_urls = [\"https://cdn.bokeh.org/bokeh/release/bokeh-2.2.3.min.js\", \"https://cdn.bokeh.org/bokeh/release/bokeh-widgets-2.2.3.min.js\", \"https://cdn.bokeh.org/bokeh/release/bokeh-tables-2.2.3.min.js\"];\n",
       "  var css_urls = [];\n",
       "  \n",
       "\n",
       "  var inline_js = [\n",
       "    function(Bokeh) {\n",
       "      Bokeh.set_log_level(\"info\");\n",
       "    },\n",
       "    function(Bokeh) {\n",
       "    \n",
       "    \n",
       "    }\n",
       "  ];\n",
       "\n",
       "  function run_inline_js() {\n",
       "    \n",
       "    if (root.Bokeh !== undefined || force === true) {\n",
       "      \n",
       "    for (var i = 0; i < inline_js.length; i++) {\n",
       "      inline_js[i].call(root, root.Bokeh);\n",
       "    }\n",
       "    if (force === true) {\n",
       "        display_loaded();\n",
       "      }} else if (Date.now() < root._bokeh_timeout) {\n",
       "      setTimeout(run_inline_js, 100);\n",
       "    } else if (!root._bokeh_failed_load) {\n",
       "      console.log(\"Bokeh: BokehJS failed to load within specified timeout.\");\n",
       "      root._bokeh_failed_load = true;\n",
       "    } else if (force !== true) {\n",
       "      var cell = $(document.getElementById(\"1001\")).parents('.cell').data().cell;\n",
       "      cell.output_area.append_execute_result(NB_LOAD_WARNING)\n",
       "    }\n",
       "\n",
       "  }\n",
       "\n",
       "  if (root._bokeh_is_loading === 0) {\n",
       "    console.debug(\"Bokeh: BokehJS loaded, going straight to plotting\");\n",
       "    run_inline_js();\n",
       "  } else {\n",
       "    load_libs(css_urls, js_urls, function() {\n",
       "      console.debug(\"Bokeh: BokehJS plotting callback run at\", now());\n",
       "      run_inline_js();\n",
       "    });\n",
       "  }\n",
       "}(window));"
      ],
      "application/vnd.bokehjs_load.v0+json": "\n(function(root) {\n  function now() {\n    return new Date();\n  }\n\n  var force = true;\n\n  if (typeof root._bokeh_onload_callbacks === \"undefined\" || force === true) {\n    root._bokeh_onload_callbacks = [];\n    root._bokeh_is_loading = undefined;\n  }\n\n  \n\n  \n  if (typeof (root._bokeh_timeout) === \"undefined\" || force === true) {\n    root._bokeh_timeout = Date.now() + 5000;\n    root._bokeh_failed_load = false;\n  }\n\n  var NB_LOAD_WARNING = {'data': {'text/html':\n     \"<div style='background-color: #fdd'>\\n\"+\n     \"<p>\\n\"+\n     \"BokehJS does not appear to have successfully loaded. If loading BokehJS from CDN, this \\n\"+\n     \"may be due to a slow or bad network connection. Possible fixes:\\n\"+\n     \"</p>\\n\"+\n     \"<ul>\\n\"+\n     \"<li>re-rerun `output_notebook()` to attempt to load from CDN again, or</li>\\n\"+\n     \"<li>use INLINE resources instead, as so:</li>\\n\"+\n     \"</ul>\\n\"+\n     \"<code>\\n\"+\n     \"from bokeh.resources import INLINE\\n\"+\n     \"output_notebook(resources=INLINE)\\n\"+\n     \"</code>\\n\"+\n     \"</div>\"}};\n\n  function display_loaded() {\n    var el = document.getElementById(\"1001\");\n    if (el != null) {\n      el.textContent = \"BokehJS is loading...\";\n    }\n    if (root.Bokeh !== undefined) {\n      if (el != null) {\n        el.textContent = \"BokehJS \" + root.Bokeh.version + \" successfully loaded.\";\n      }\n    } else if (Date.now() < root._bokeh_timeout) {\n      setTimeout(display_loaded, 100)\n    }\n  }\n\n\n  function run_callbacks() {\n    try {\n      root._bokeh_onload_callbacks.forEach(function(callback) {\n        if (callback != null)\n          callback();\n      });\n    } finally {\n      delete root._bokeh_onload_callbacks\n    }\n    console.debug(\"Bokeh: all callbacks have finished\");\n  }\n\n  function load_libs(css_urls, js_urls, callback) {\n    if (css_urls == null) css_urls = [];\n    if (js_urls == null) js_urls = [];\n\n    root._bokeh_onload_callbacks.push(callback);\n    if (root._bokeh_is_loading > 0) {\n      console.debug(\"Bokeh: BokehJS is being loaded, scheduling callback at\", now());\n      return null;\n    }\n    if (js_urls == null || js_urls.length === 0) {\n      run_callbacks();\n      return null;\n    }\n    console.debug(\"Bokeh: BokehJS not loaded, scheduling load and callback at\", now());\n    root._bokeh_is_loading = css_urls.length + js_urls.length;\n\n    function on_load() {\n      root._bokeh_is_loading--;\n      if (root._bokeh_is_loading === 0) {\n        console.debug(\"Bokeh: all BokehJS libraries/stylesheets loaded\");\n        run_callbacks()\n      }\n    }\n\n    function on_error() {\n      console.error(\"failed to load \" + url);\n    }\n\n    for (var i = 0; i < css_urls.length; i++) {\n      var url = css_urls[i];\n      const element = document.createElement(\"link\");\n      element.onload = on_load;\n      element.onerror = on_error;\n      element.rel = \"stylesheet\";\n      element.type = \"text/css\";\n      element.href = url;\n      console.debug(\"Bokeh: injecting link tag for BokehJS stylesheet: \", url);\n      document.body.appendChild(element);\n    }\n\n    const hashes = {\"https://cdn.bokeh.org/bokeh/release/bokeh-2.2.3.min.js\": \"T2yuo9Oe71Cz/I4X9Ac5+gpEa5a8PpJCDlqKYO0CfAuEszu1JrXLl8YugMqYe3sM\", \"https://cdn.bokeh.org/bokeh/release/bokeh-widgets-2.2.3.min.js\": \"98GDGJ0kOMCUMUePhksaQ/GYgB3+NH9h996V88sh3aOiUNX3N+fLXAtry6xctSZ6\", \"https://cdn.bokeh.org/bokeh/release/bokeh-tables-2.2.3.min.js\": \"89bArO+nlbP3sgakeHjCo1JYxYR5wufVgA3IbUvDY+K7w4zyxJqssu7wVnfeKCq8\"};\n\n    for (var i = 0; i < js_urls.length; i++) {\n      var url = js_urls[i];\n      var element = document.createElement('script');\n      element.onload = on_load;\n      element.onerror = on_error;\n      element.async = false;\n      element.src = url;\n      if (url in hashes) {\n        element.crossOrigin = \"anonymous\";\n        element.integrity = \"sha384-\" + hashes[url];\n      }\n      console.debug(\"Bokeh: injecting script tag for BokehJS library: \", url);\n      document.head.appendChild(element);\n    }\n  };\n\n  function inject_raw_css(css) {\n    const element = document.createElement(\"style\");\n    element.appendChild(document.createTextNode(css));\n    document.body.appendChild(element);\n  }\n\n  \n  var js_urls = [\"https://cdn.bokeh.org/bokeh/release/bokeh-2.2.3.min.js\", \"https://cdn.bokeh.org/bokeh/release/bokeh-widgets-2.2.3.min.js\", \"https://cdn.bokeh.org/bokeh/release/bokeh-tables-2.2.3.min.js\"];\n  var css_urls = [];\n  \n\n  var inline_js = [\n    function(Bokeh) {\n      Bokeh.set_log_level(\"info\");\n    },\n    function(Bokeh) {\n    \n    \n    }\n  ];\n\n  function run_inline_js() {\n    \n    if (root.Bokeh !== undefined || force === true) {\n      \n    for (var i = 0; i < inline_js.length; i++) {\n      inline_js[i].call(root, root.Bokeh);\n    }\n    if (force === true) {\n        display_loaded();\n      }} else if (Date.now() < root._bokeh_timeout) {\n      setTimeout(run_inline_js, 100);\n    } else if (!root._bokeh_failed_load) {\n      console.log(\"Bokeh: BokehJS failed to load within specified timeout.\");\n      root._bokeh_failed_load = true;\n    } else if (force !== true) {\n      var cell = $(document.getElementById(\"1001\")).parents('.cell').data().cell;\n      cell.output_area.append_execute_result(NB_LOAD_WARNING)\n    }\n\n  }\n\n  if (root._bokeh_is_loading === 0) {\n    console.debug(\"Bokeh: BokehJS loaded, going straight to plotting\");\n    run_inline_js();\n  } else {\n    load_libs(css_urls, js_urls, function() {\n      console.debug(\"Bokeh: BokehJS plotting callback run at\", now());\n      run_inline_js();\n    });\n  }\n}(window));"
     },
     "metadata": {},
     "output_type": "display_data"
    }
   ],
   "source": [
    "import abc\n",
    "import random\n",
    "\n",
    "import gym\n",
    "\n",
    "from utils.viz.viz_data_collection import plot_action_distribution, plot_episode_total_rewards"
   ]
  },
  {
   "cell_type": "markdown",
   "metadata": {},
   "source": [
    "## 1. Ambientes no OpenAI Gym\n",
    "\n",
    "Um ambiente no OpenAI Gym encapsula um simulador com o qual um agente pode interagir. Nesse simulador, a cada instante $t$ o agente deve escolhar uma ação $\\mathbf{a}_t \\in \\mathcal{A}$ a ser executada. Ao receber essa ação, o ambiente tem seu estado $\\mathbf{s}_t \\in \\mathcal{S}$ alterado para outro estado $\\mathbf{s}_{t+1} \\in \\mathcal{S}$ e devolve para o agente uma observação (que pode ou não corresponder ao estado) e uma recompensa/punição $r_{t+1} \\in \\mathbb{R}$.\n",
    "\n",
    "O pacote Gym conta com inúmeros [ambientes pré-programados](http://gym.openai.com/envs/) e prontos para serem usados para testar algoritmos de RL. Nessa parte prática, começaremos a explorar alguns ambientes mais simples a fim de nos familiarizarmos com os principais conceitos de modelagem da biblioteca Gym."
   ]
  },
  {
   "cell_type": "markdown",
   "metadata": {},
   "source": [
    "Para carregar um ambiente disponível no Gym basta chamar a função `gym.make` passando como argumento o identificador do ambiente:"
   ]
  },
  {
   "cell_type": "code",
   "execution_count": 2,
   "metadata": {},
   "outputs": [],
   "source": [
    "env = gym.make(\"MountainCar-v0\")"
   ]
  },
  {
   "cell_type": "markdown",
   "metadata": {},
   "source": [
    "> **Atenção**: antes de usar um ambiente do Gym com o qual você não está familiarizado pode ser útil ler a sua documentação online.\n",
    "> Para o `MountainCar-v0` acesse o link [http://gym.openai.com/envs/MountainCar-v0/](http://gym.openai.com/envs/MountainCar-v0/)."
   ]
  },
  {
   "cell_type": "markdown",
   "metadata": {},
   "source": [
    "Informações adicionais sobre o ambiente/simulador podem ser obtidas accessando o atributo `env.spec`. Embora não seja obrigatório, muitos ambientes do OpenAI Gym definem  metadados importantes relacionados à tarefa de RL. Em particular, `env.spec.max_episode_steps` define o número máximo de passos de decisão que um agente pode tomar em um episódio (i.e., o tamanho máximo de uma trajetória) e `env.spec.reward_threshold` define o valor mínimo de retorno (i.e., recompensa total) de um episódio para o qual a tarefa é considerada resolvida."
   ]
  },
  {
   "cell_type": "code",
   "execution_count": 3,
   "metadata": {},
   "outputs": [
    {
     "name": "stdout",
     "output_type": "stream",
     "text": [
      "MAX_EPISODE_STEPS = 200\n",
      "REWARD THRESHOLD = -110.0\n"
     ]
    }
   ],
   "source": [
    "print(f\"MAX_EPISODE_STEPS = {env.spec.max_episode_steps}\")\n",
    "print(f\"REWARD THRESHOLD = {env.spec.reward_threshold}\")"
   ]
  },
  {
   "cell_type": "markdown",
   "metadata": {},
   "source": [
    "### 1.1. Espaço de estados e ações\n",
    "\n",
    "Todo agente de RL deve conhecer quais ações pode tomar no ambiente e também quais as características das variáveis de observações que aquele ambiente lhe disponibiliza. Para acessar o espaço de estados e ações, um ambiente do gym disponibiliza os atributos `env.observation_space` e `env.action_space`, respectivamente.\n",
    "\n",
    "Note que essas informações serão importantes futuramente na definição das entradas e saídas das redes neurais artificiais que utilizaremos para representar a política $\\pi_\\theta$ do agente e também na criação de outros modelos.   "
   ]
  },
  {
   "cell_type": "markdown",
   "metadata": {},
   "source": [
    "Todo `observation_space` tem associado seu tipo numérico (e.g., int, float,...) e as dimensões de uma observação. Além disso, é possível saber se o valor das variáveis observação são limitadas ou não, e se forem limitadas qual o valor mínimo e máximo."
   ]
  },
  {
   "cell_type": "code",
   "execution_count": 4,
   "metadata": {},
   "outputs": [
    {
     "name": "stdout",
     "output_type": "stream",
     "text": [
      "float32\n",
      "(2,)\n",
      "[ True  True] [0.6  0.07]\n",
      "[ True  True] [-1.2  -0.07]\n"
     ]
    }
   ],
   "source": [
    "obs_space = env.observation_space\n",
    "\n",
    "print(obs_space.dtype)\n",
    "print(obs_space.shape)\n",
    "print(obs_space.bounded_above, obs_space.high)\n",
    "print(obs_space.bounded_below, obs_space.low)"
   ]
  },
  {
   "cell_type": "markdown",
   "metadata": {},
   "source": [
    "Para o `MountainCar-v0` note que uma observação correponde a um vetor de números reais de tamanho 2 (i.e., um par de valores em ponto flutuante). Note que a primeira componente do vetor é limitada entre -1.2 e 0.6, e a segunda componente entre -0.07 e 0.07. "
   ]
  },
  {
   "cell_type": "markdown",
   "metadata": {},
   "source": [
    "Analogamente, todo `action_space` tem associado seu tipo numérico e as dimensões de uma ação:"
   ]
  },
  {
   "cell_type": "code",
   "execution_count": 5,
   "metadata": {},
   "outputs": [
    {
     "name": "stdout",
     "output_type": "stream",
     "text": [
      "int64\n",
      "()\n",
      "3\n"
     ]
    }
   ],
   "source": [
    "action_space = env.action_space\n",
    "\n",
    "print(action_space.dtype)\n",
    "print(action_space.shape)\n",
    "print(action_space.n)"
   ]
  },
  {
   "cell_type": "markdown",
   "metadata": {},
   "source": [
    "Note que para o `MountainCar-v0` o agente deverá escolher ações discretas (i.e., representadas por números inteiros). Observe também que o `shape==()` indica que uma ação é dada por um único escalar (e não um vetor como no caso do `observation_space`. Para acessar o número de possíveis valores da ação basta acessar o atributo `action_space.n`."
   ]
  },
  {
   "cell_type": "markdown",
   "metadata": {},
   "source": [
    "> **Atenção**: em algumas situações pode ser interessante ter acesso à amostras de observações e ações. Você pode usar os métodos `env.observation_space.sample()` e `env.action_space.sample()` para gerar aleatoriamente observações e ações direto do ambiente `env`. "
   ]
  },
  {
   "cell_type": "code",
   "execution_count": 6,
   "metadata": {},
   "outputs": [
    {
     "name": "stdout",
     "output_type": "stream",
     "text": [
      "[array([-0.5026753 ,  0.05466935], dtype=float32), array([0.5506974 , 0.00903989], dtype=float32), array([-0.29462278,  0.00220256], dtype=float32)]\n"
     ]
    }
   ],
   "source": [
    "obs_samples = [env.observation_space.sample() for _ in range(3)]\n",
    "print(obs_samples)"
   ]
  },
  {
   "cell_type": "code",
   "execution_count": 7,
   "metadata": {},
   "outputs": [
    {
     "name": "stdout",
     "output_type": "stream",
     "text": [
      "[2, 1, 1, 0, 1]\n"
     ]
    }
   ],
   "source": [
    "action_samples = [env.action_space.sample() for _ in range(5)]\n",
    "print(action_samples)"
   ]
  },
  {
   "cell_type": "markdown",
   "metadata": {},
   "source": [
    "### 1.2 Interface do Gym: métodos reset, step, render e close\n",
    "\n",
    "Um objeto `env` do Gym fornece 4 métodos principais para interagir com o simulador: \n",
    "1. `reset` permite re-inicialiar o simulador para um de seus estados iniciais;\n",
    "2. `step` se encarrega de executar uma ação no ambiente;\n",
    "3. `render` visualiza graficamente o estado do agente; e\n",
    "4. `close` libera recursos utilizados na simulação (por exemplo fecha a janela de visualização)."
   ]
  },
  {
   "cell_type": "code",
   "execution_count": 8,
   "metadata": {},
   "outputs": [
    {
     "name": "stdout",
     "output_type": "stream",
     "text": [
      "obs 0 = [-0.40974603  0.        ]\n",
      "obs 1 = [-0.48380412  0.        ]\n",
      "obs 2 = [-0.56618932  0.        ]\n",
      "obs 3 = [-0.45425971  0.        ]\n",
      "obs 4 = [-0.50988789  0.        ]\n"
     ]
    }
   ],
   "source": [
    "for i in range(5):\n",
    "    obs = env.reset()\n",
    "    print(f\"obs {i} = {obs}\")"
   ]
  },
  {
   "cell_type": "markdown",
   "metadata": {},
   "source": [
    "Note que a observação do estado inicial muda conforme o método `.reset()` é chamado. Isso se deve ao fato de que o estado inicial é definido como uma variável aleatória regida por uma distribuição inicial."
   ]
  },
  {
   "cell_type": "code",
   "execution_count": 9,
   "metadata": {},
   "outputs": [
    {
     "name": "stdout",
     "output_type": "stream",
     "text": [
      "transition 0 = (2, [-0.58218804  0.00144785], -1.0)\n",
      "transition 1 = (2, [-0.57930303  0.00288501], -1.0)\n",
      "transition 2 = (1, [-0.57600219  0.00330085], -1.0)\n",
      "transition 3 = (1, [-0.57230993  0.00369226], -1.0)\n",
      "transition 4 = (2, [-0.56725364  0.00505629], -1.0)\n"
     ]
    }
   ],
   "source": [
    "obs = env.reset()\n",
    "\n",
    "for i in range(5):\n",
    "    action = env.action_space.sample()\n",
    "    obs, reward, done, info = env.step(action)\n",
    "    print(f\"transition {i} = ({action}, {obs}, {reward})\")"
   ]
  },
  {
   "cell_type": "markdown",
   "metadata": {},
   "source": [
    "> **Atenção**: Você pode se familiarizar com os argumentos e retorno de ambos os métodos através de seus *docstrings* acessados via `?`."
   ]
  },
  {
   "cell_type": "code",
   "execution_count": 10,
   "metadata": {},
   "outputs": [
    {
     "data": {
      "text/plain": [
       "\u001b[0;31mSignature:\u001b[0m \u001b[0menv\u001b[0m\u001b[0;34m.\u001b[0m\u001b[0mreset\u001b[0m\u001b[0;34m(\u001b[0m\u001b[0;34m**\u001b[0m\u001b[0mkwargs\u001b[0m\u001b[0;34m)\u001b[0m\u001b[0;34m\u001b[0m\u001b[0;34m\u001b[0m\u001b[0m\n",
       "\u001b[0;31mDocstring:\u001b[0m\n",
       "Resets the environment to an initial state and returns an initial\n",
       "observation.\n",
       "\n",
       "Note that this function should not reset the environment's random\n",
       "number generator(s); random variables in the environment's state should\n",
       "be sampled independently between multiple calls to `reset()`. In other\n",
       "words, each call of `reset()` should yield an environment suitable for\n",
       "a new episode, independent of previous episodes.\n",
       "\n",
       "Returns:\n",
       "    observation (object): the initial observation.\n",
       "\u001b[0;31mFile:\u001b[0m      ~/Desktop/curso-verao-rl-ime-2021/src/gym/gym/wrappers/time_limit.py\n",
       "\u001b[0;31mType:\u001b[0m      method\n"
      ]
     },
     "metadata": {},
     "output_type": "display_data"
    }
   ],
   "source": [
    "env.reset?"
   ]
  },
  {
   "cell_type": "code",
   "execution_count": 11,
   "metadata": {},
   "outputs": [
    {
     "data": {
      "text/plain": [
       "\u001b[0;31mSignature:\u001b[0m \u001b[0menv\u001b[0m\u001b[0;34m.\u001b[0m\u001b[0mstep\u001b[0m\u001b[0;34m(\u001b[0m\u001b[0maction\u001b[0m\u001b[0;34m)\u001b[0m\u001b[0;34m\u001b[0m\u001b[0;34m\u001b[0m\u001b[0m\n",
       "\u001b[0;31mDocstring:\u001b[0m\n",
       "Run one timestep of the environment's dynamics. When end of\n",
       "episode is reached, you are responsible for calling `reset()`\n",
       "to reset this environment's state.\n",
       "\n",
       "Accepts an action and returns a tuple (observation, reward, done, info).\n",
       "\n",
       "Args:\n",
       "    action (object): an action provided by the agent\n",
       "\n",
       "Returns:\n",
       "    observation (object): agent's observation of the current environment\n",
       "    reward (float) : amount of reward returned after previous action\n",
       "    done (bool): whether the episode has ended, in which case further step() calls will return undefined results\n",
       "    info (dict): contains auxiliary diagnostic information (helpful for debugging, and sometimes learning)\n",
       "\u001b[0;31mFile:\u001b[0m      ~/Desktop/curso-verao-rl-ime-2021/src/gym/gym/wrappers/time_limit.py\n",
       "\u001b[0;31mType:\u001b[0m      method\n"
      ]
     },
     "metadata": {},
     "output_type": "display_data"
    }
   ],
   "source": [
    "env.step?"
   ]
  },
  {
   "cell_type": "markdown",
   "metadata": {},
   "source": [
    "## 2. Agentes \n",
    "\n",
    "A fim de permitir a implementação do **ciclo de interação Agente-Ambiente**, um agente de RL deve ser capaz de escolher uma ação para cada observação recebida do ambiente e aprender (i.e., melhorar sua performance) a partir de suas experiências.\n",
    "\n",
    "Nesse contexto, na classe abstrata `Agent` definimos a interface geral de um agente de RL. \n",
    "\n",
    "> **Atenção**: Familiarize-se com essa classe; todos os agentes definidos nessa aula e nas próximas deverão especializar (i.e., derivar ou sub-classear) essa interface geral."
   ]
  },
  {
   "cell_type": "code",
   "execution_count": 12,
   "metadata": {},
   "outputs": [],
   "source": [
    "class Agent(abc.ABC):\n",
    "    \"\"\"\n",
    "    Classe abstrata que define a interface básica de um agente RL.\n",
    "\n",
    "    Args:\n",
    "        obs_space:     especificação do espaço de observações do ambiente.\n",
    "        action_space:  especificação do espaço de ações do ambiente.\n",
    "        config (dict): (opcional) configurações de hiper-parâmetros.\n",
    "    \"\"\"\n",
    "\n",
    "    def __init__(self, obs_space, action_space, config=None):\n",
    "        self.obs_space = obs_space\n",
    "        self.action_space = action_space\n",
    "        self.config = config\n",
    "\n",
    "    @abc.abstractmethod\n",
    "    def step(self, obs):\n",
    "        \"\"\"\n",
    "        Escolhe uma ação para ser tomada dada uma observação do ambiente.\n",
    "        \n",
    "        Args: \n",
    "            obs (np.ndarray): observação do ambiente.\n",
    "        \n",
    "        Return:\n",
    "            action (np.ndarray): ação válida dentro do espaço de ações.\n",
    "        \"\"\"\n",
    "        raise NotImplementedError\n",
    "\n",
    "    @abc.abstractmethod\n",
    "    def learn(self, batch):\n",
    "        \"\"\"\n",
    "        Método de treinamento do agente. A partir de uma amostra de experiências,\n",
    "        o agente aprende um novo comportamento.\n",
    "\n",
    "        Args: \n",
    "            batch (Dict[str, np.ndarray]): Um batch de transições.\n",
    "\n",
    "        Return:\n",
    "            None\n",
    "        \"\"\"     \n",
    "        raise NotImplementedError\n"
   ]
  },
  {
   "cell_type": "markdown",
   "metadata": {},
   "source": [
    "### 2.1 Definindo um agente aleatório\n",
    "\n",
    "Antes de finalmente definir o ciclo de interação agente-ambiente, vamos implementar um agente que escolhe ações aleatórias.\n",
    "\n",
    "O agente `RandomPolicy` tem seu comportamento definido por uma política estocástica dada por uma distribuição uniforme sobre as ações válidas:\n",
    "\n",
    "$$\n",
    "\\mathbf{a}_t \\sim \\pi(\\cdot|\\mathbf{s}) = \\mathcal{Uniform}(\\{ \\mathbf{a} : \\mathbf{a} \\in \\mathcal{A} \\})~.\n",
    "$$\n",
    "\n",
    "Note que nesse ponto do curso, a implementação do agente aleatório é basicamente ilustrativa. No entanto, como veremos nas aulas seguintes, um agente que implementa uma política aleatória tem duas importantes funções:\n",
    "1. servir de referência de performance final; e\n",
    "2. guiar a inicialização de agentes de RL.\n",
    "\n",
    "Em outras palavras, se um agente de RL após o treinamento não conseguir uma performance significativamente melhor do que aquela do agente aleatório, então muito provavelemente algo não está funcionando como deveria. Além disso, ao garantir que a inicialização de uma política induza um comportamente similar ao de um agente aleatório, não estaremos enviesando a exploração inicial do agente; o que poderia levar muito rapidamente para uma performance sub-ótima."
   ]
  },
  {
   "cell_type": "code",
   "execution_count": 13,
   "metadata": {},
   "outputs": [],
   "source": [
    "class RandomPolicy(Agent):\n",
    "    \"\"\"\n",
    "    Agente aleatório. Escolhe aleatoriamente uma ação independentemente\n",
    "    da observação recebida do ambiente.\n",
    "    \n",
    "    Args:\n",
    "        action_space:  especificação do espaço de ações do ambiente.\n",
    "    \"\"\"\n",
    "    \n",
    "    def __init__(self, observation_space, action_space, config=None):\n",
    "        super().__init__(observation_space, action_space, config)\n",
    "\n",
    "    def step(self, obs):\n",
    "        \"\"\"Retorna uma ação aleatória.\"\"\"\n",
    "        del obs\n",
    "        return self.action_space.sample()\n",
    "\n",
    "    def learn(self, batch):\n",
    "        \"\"\"Um agente aletório não aprende; i.e., não melhora seu comportamento.\"\"\"\n",
    "        pass\n"
   ]
  },
  {
   "cell_type": "markdown",
   "metadata": {},
   "source": [
    "Note que para uma mesma observação o agente `RandomPolicy` retorna diferentes ações a cada chamada:"
   ]
  },
  {
   "cell_type": "code",
   "execution_count": 14,
   "metadata": {},
   "outputs": [
    {
     "name": "stdout",
     "output_type": "stream",
     "text": [
      "[1, 0, 0, 1, 0, 1, 2, 1, 1, 1, 0, 1, 2, 1, 1, 2, 0, 1, 2, 2]\n"
     ]
    }
   ],
   "source": [
    "agent = RandomPolicy(env.observation_space, env.action_space)\n",
    "\n",
    "obs = env.reset()\n",
    "print([agent.step(obs) for _ in range(20)])"
   ]
  },
  {
   "cell_type": "code",
   "execution_count": 15,
   "metadata": {},
   "outputs": [
    {
     "data": {
      "text/html": [
       "\n",
       "\n",
       "\n",
       "\n",
       "\n",
       "\n",
       "  <div class=\"bk-root\" id=\"82e76231-73cd-4c52-869c-68113ad76ba7\" data-root-id=\"1389\"></div>\n"
      ]
     },
     "metadata": {},
     "output_type": "display_data"
    },
    {
     "data": {
      "application/javascript": [
       "(function(root) {\n",
       "  function embed_document(root) {\n",
       "    \n",
       "  var docs_json = {\"d7bada45-c39f-49e0-a501-da5afef2f13f\":{\"roots\":{\"references\":[{\"attributes\":{\"children\":[{\"id\":\"1388\"},{\"id\":\"1386\"}]},\"id\":\"1389\",\"type\":\"Column\"},{\"attributes\":{},\"id\":\"1146\",\"type\":\"HelpTool\"},{\"attributes\":{\"axis_label\":\"Action Distribution\",\"formatter\":{\"id\":\"1340\"},\"ticker\":{\"id\":\"1098\"}},\"id\":\"1097\",\"type\":\"LinearAxis\"},{\"attributes\":{\"bottom\":{\"value\":0},\"fill_alpha\":{\"value\":0.5},\"fill_color\":{\"value\":\"#1f77b4\"},\"left\":{\"field\":\"left\"},\"line_alpha\":{\"value\":0.5},\"line_color\":{\"value\":\"white\"},\"right\":{\"field\":\"right\"},\"top\":{\"field\":\"top\"}},\"id\":\"1038\",\"type\":\"Quad\"},{\"attributes\":{},\"id\":\"1327\",\"type\":\"Selection\"},{\"attributes\":{\"bottom_units\":\"screen\",\"fill_alpha\":0.5,\"fill_color\":\"lightgrey\",\"left_units\":\"screen\",\"level\":\"overlay\",\"line_alpha\":1.0,\"line_color\":\"black\",\"line_dash\":[4,4],\"line_width\":2,\"right_units\":\"screen\",\"top_units\":\"screen\"},\"id\":\"1227\",\"type\":\"BoxAnnotation\"},{\"attributes\":{},\"id\":\"1324\",\"type\":\"BasicTickFormatter\"},{\"attributes\":{},\"id\":\"1181\",\"type\":\"PanTool\"},{\"attributes\":{\"source\":{\"id\":\"1197\"}},\"id\":\"1201\",\"type\":\"CDSView\"},{\"attributes\":{\"axis_label\":\"Actions\",\"formatter\":{\"id\":\"1323\"},\"major_label_overrides\":{\"0.3333333333333333\":\"0\",\"1.0\":\"1\",\"1.6666666666666665\":\"2\"},\"ticker\":{\"id\":\"1035\"}},\"id\":\"1013\",\"type\":\"LinearAxis\"},{\"attributes\":{},\"id\":\"1289\",\"type\":\"LinearScale\"},{\"attributes\":{\"axis\":{\"id\":\"1017\"},\"dimension\":1,\"ticker\":null},\"id\":\"1020\",\"type\":\"Grid\"},{\"attributes\":{},\"id\":\"1209\",\"type\":\"LinearScale\"},{\"attributes\":{\"data\":{\"left\":{\"__ndarray__\":\"AAAAAAAAAABVVVVVVVXlP1VVVVVVVfU/\",\"dtype\":\"float64\",\"order\":\"little\",\"shape\":[3]},\"right\":{\"__ndarray__\":\"VVVVVVVV5T9VVVVVVVX1PwAAAAAAAABA\",\"dtype\":\"float64\",\"order\":\"little\",\"shape\":[3]},\"top\":{\"__ndarray__\":\"vHSTGARW3j/HSzeJQWDhP7Xz/dR46d4/\",\"dtype\":\"float64\",\"order\":\"little\",\"shape\":[3]}},\"selected\":{\"id\":\"1359\"},\"selection_policy\":{\"id\":\"1360\"}},\"id\":\"1197\",\"type\":\"ColumnDataSource\"},{\"attributes\":{},\"id\":\"1328\",\"type\":\"UnionRenderers\"},{\"attributes\":{\"ticks\":[0.3333333333333333,1.0,1.6666666666666665]},\"id\":\"1195\",\"type\":\"FixedTicker\"},{\"attributes\":{},\"id\":\"1351\",\"type\":\"Selection\"},{\"attributes\":{},\"id\":\"1182\",\"type\":\"WheelZoomTool\"},{\"attributes\":{},\"id\":\"1185\",\"type\":\"ResetTool\"},{\"attributes\":{\"source\":{\"id\":\"1037\"}},\"id\":\"1041\",\"type\":\"CDSView\"},{\"attributes\":{},\"id\":\"1331\",\"type\":\"BasicTickFormatter\"},{\"attributes\":{\"axis\":{\"id\":\"1013\"},\"ticker\":null,\"visible\":false},\"id\":\"1016\",\"type\":\"Grid\"},{\"attributes\":{},\"id\":\"1205\",\"type\":\"DataRange1d\"},{\"attributes\":{\"axis_label\":\"Actions\",\"formatter\":{\"id\":\"1379\"},\"major_label_overrides\":{\"0.3333333333333333\":\"0\",\"1.0\":\"1\",\"1.6666666666666665\":\"2\"},\"ticker\":{\"id\":\"1315\"}},\"id\":\"1293\",\"type\":\"LinearAxis\"},{\"attributes\":{\"text\":\"obs = [0.52208954 0.01232402]\"},\"id\":\"1083\",\"type\":\"Title\"},{\"attributes\":{\"bottom_units\":\"screen\",\"fill_alpha\":0.5,\"fill_color\":\"lightgrey\",\"left_units\":\"screen\",\"level\":\"overlay\",\"line_alpha\":1.0,\"line_color\":\"black\",\"line_dash\":[4,4],\"line_width\":2,\"right_units\":\"screen\",\"top_units\":\"screen\"},\"id\":\"1267\",\"type\":\"BoxAnnotation\"},{\"attributes\":{\"bottom\":{\"value\":0},\"fill_alpha\":{\"value\":0.1},\"fill_color\":{\"value\":\"#1f77b4\"},\"left\":{\"field\":\"left\"},\"line_alpha\":{\"value\":0.1},\"line_color\":{\"value\":\"white\"},\"right\":{\"field\":\"right\"},\"top\":{\"field\":\"top\"}},\"id\":\"1199\",\"type\":\"Quad\"},{\"attributes\":{\"text\":\"obs = [-0.81757283  0.06655526]\"},\"id\":\"1203\",\"type\":\"Title\"},{\"attributes\":{},\"id\":\"1249\",\"type\":\"LinearScale\"},{\"attributes\":{},\"id\":\"1018\",\"type\":\"BasicTicker\"},{\"attributes\":{\"axis_label\":\"Action Distribution\",\"formatter\":{\"id\":\"1324\"},\"ticker\":{\"id\":\"1018\"}},\"id\":\"1017\",\"type\":\"LinearAxis\"},{\"attributes\":{},\"id\":\"1291\",\"type\":\"LinearScale\"},{\"attributes\":{\"bottom_units\":\"screen\",\"fill_alpha\":0.5,\"fill_color\":\"lightgrey\",\"left_units\":\"screen\",\"level\":\"overlay\",\"line_alpha\":1.0,\"line_color\":\"black\",\"line_dash\":[4,4],\"line_width\":2,\"right_units\":\"screen\",\"top_units\":\"screen\"},\"id\":\"1107\",\"type\":\"BoxAnnotation\"},{\"attributes\":{},\"id\":\"1348\",\"type\":\"BasicTickFormatter\"},{\"attributes\":{},\"id\":\"1064\",\"type\":\"SaveTool\"},{\"attributes\":{},\"id\":\"1186\",\"type\":\"HelpTool\"},{\"attributes\":{\"data_source\":{\"id\":\"1197\"},\"glyph\":{\"id\":\"1198\"},\"hover_glyph\":null,\"muted_glyph\":null,\"nonselection_glyph\":{\"id\":\"1199\"},\"selection_glyph\":null,\"view\":{\"id\":\"1201\"}},\"id\":\"1200\",\"type\":\"GlyphRenderer\"},{\"attributes\":{\"source\":{\"id\":\"1237\"}},\"id\":\"1241\",\"type\":\"CDSView\"},{\"attributes\":{\"ticks\":[0.3333333333333333,1.0,1.6666666666666665]},\"id\":\"1315\",\"type\":\"FixedTicker\"},{\"attributes\":{\"data_source\":{\"id\":\"1117\"},\"glyph\":{\"id\":\"1118\"},\"hover_glyph\":null,\"muted_glyph\":null,\"nonselection_glyph\":{\"id\":\"1119\"},\"selection_glyph\":null,\"view\":{\"id\":\"1121\"}},\"id\":\"1120\",\"type\":\"GlyphRenderer\"},{\"attributes\":{},\"id\":\"1211\",\"type\":\"LinearScale\"},{\"attributes\":{},\"id\":\"1298\",\"type\":\"BasicTicker\"},{\"attributes\":{},\"id\":\"1352\",\"type\":\"UnionRenderers\"},{\"attributes\":{},\"id\":\"1245\",\"type\":\"DataRange1d\"},{\"attributes\":{},\"id\":\"1356\",\"type\":\"BasicTickFormatter\"},{\"attributes\":{\"ticks\":[0.3333333333333333,1.0,1.6666666666666665]},\"id\":\"1115\",\"type\":\"FixedTicker\"},{\"attributes\":{\"bottom\":{\"value\":0},\"fill_alpha\":{\"value\":0.5},\"fill_color\":{\"value\":\"#1f77b4\"},\"left\":{\"field\":\"left\"},\"line_alpha\":{\"value\":0.5},\"line_color\":{\"value\":\"white\"},\"right\":{\"field\":\"right\"},\"top\":{\"field\":\"top\"}},\"id\":\"1118\",\"type\":\"Quad\"},{\"attributes\":{},\"id\":\"1355\",\"type\":\"BasicTickFormatter\"},{\"attributes\":{\"below\":[{\"id\":\"1213\"}],\"center\":[{\"id\":\"1216\"},{\"id\":\"1220\"}],\"left\":[{\"id\":\"1217\"}],\"plot_height\":250,\"plot_width\":250,\"renderers\":[{\"id\":\"1240\"}],\"title\":{\"id\":\"1203\"},\"toolbar\":{\"id\":\"1228\"},\"toolbar_location\":null,\"x_range\":{\"id\":\"1205\"},\"x_scale\":{\"id\":\"1209\"},\"y_range\":{\"id\":\"1207\"},\"y_scale\":{\"id\":\"1211\"}},\"id\":\"1202\",\"subtype\":\"Figure\",\"type\":\"Plot\"},{\"attributes\":{},\"id\":\"1184\",\"type\":\"SaveTool\"},{\"attributes\":{},\"id\":\"1207\",\"type\":\"DataRange1d\"},{\"attributes\":{\"text\":\"obs = [0.22296615 0.00058196]\"},\"id\":\"1243\",\"type\":\"Title\"},{\"attributes\":{\"active_drag\":\"auto\",\"active_inspect\":\"auto\",\"active_multi\":null,\"active_scroll\":\"auto\",\"active_tap\":\"auto\",\"tools\":[{\"id\":\"1301\"},{\"id\":\"1302\"},{\"id\":\"1303\"},{\"id\":\"1304\"},{\"id\":\"1305\"},{\"id\":\"1306\"}]},\"id\":\"1308\",\"type\":\"Toolbar\"},{\"attributes\":{\"bottom_units\":\"screen\",\"fill_alpha\":0.5,\"fill_color\":\"lightgrey\",\"left_units\":\"screen\",\"level\":\"overlay\",\"line_alpha\":1.0,\"line_color\":\"black\",\"line_dash\":[4,4],\"line_width\":2,\"right_units\":\"screen\",\"top_units\":\"screen\"},\"id\":\"1147\",\"type\":\"BoxAnnotation\"},{\"attributes\":{\"bottom\":{\"value\":0},\"fill_alpha\":{\"value\":0.1},\"fill_color\":{\"value\":\"#1f77b4\"},\"left\":{\"field\":\"left\"},\"line_alpha\":{\"value\":0.1},\"line_color\":{\"value\":\"white\"},\"right\":{\"field\":\"right\"},\"top\":{\"field\":\"top\"}},\"id\":\"1119\",\"type\":\"Quad\"},{\"attributes\":{\"overlay\":{\"id\":\"1187\"}},\"id\":\"1183\",\"type\":\"BoxZoomTool\"},{\"attributes\":{},\"id\":\"1129\",\"type\":\"LinearScale\"},{\"attributes\":{\"data\":{\"left\":{\"__ndarray__\":\"AAAAAAAAAABVVVVVVVXlP1VVVVVVVfU/\",\"dtype\":\"float64\",\"order\":\"little\",\"shape\":[3]},\"right\":{\"__ndarray__\":\"VVVVVVVV5T9VVVVVVVX1PwAAAAAAAABA\",\"dtype\":\"float64\",\"order\":\"little\",\"shape\":[3]},\"top\":{\"__ndarray__\":\"EFg5tMh24D+28/3UeOnePxSuR+F6FOA/\",\"dtype\":\"float64\",\"order\":\"little\",\"shape\":[3]}},\"selected\":{\"id\":\"1343\"},\"selection_policy\":{\"id\":\"1344\"}},\"id\":\"1117\",\"type\":\"ColumnDataSource\"},{\"attributes\":{},\"id\":\"1359\",\"type\":\"Selection\"},{\"attributes\":{\"axis_label\":\"Actions\",\"formatter\":{\"id\":\"1363\"},\"major_label_overrides\":{\"0.3333333333333333\":\"0\",\"1.0\":\"1\",\"1.6666666666666665\":\"2\"},\"ticker\":{\"id\":\"1235\"}},\"id\":\"1213\",\"type\":\"LinearAxis\"},{\"attributes\":{\"data_source\":{\"id\":\"1317\"},\"glyph\":{\"id\":\"1318\"},\"hover_glyph\":null,\"muted_glyph\":null,\"nonselection_glyph\":{\"id\":\"1319\"},\"selection_glyph\":null,\"view\":{\"id\":\"1321\"}},\"id\":\"1320\",\"type\":\"GlyphRenderer\"},{\"attributes\":{\"source\":{\"id\":\"1117\"}},\"id\":\"1121\",\"type\":\"CDSView\"},{\"attributes\":{},\"id\":\"1021\",\"type\":\"PanTool\"},{\"attributes\":{},\"id\":\"1026\",\"type\":\"HelpTool\"},{\"attributes\":{},\"id\":\"1301\",\"type\":\"PanTool\"},{\"attributes\":{\"active_drag\":\"auto\",\"active_inspect\":\"auto\",\"active_multi\":null,\"active_scroll\":\"auto\",\"active_tap\":\"auto\",\"tools\":[{\"id\":\"1141\"},{\"id\":\"1142\"},{\"id\":\"1143\"},{\"id\":\"1144\"},{\"id\":\"1145\"},{\"id\":\"1146\"}]},\"id\":\"1148\",\"type\":\"Toolbar\"},{\"attributes\":{\"axis\":{\"id\":\"1217\"},\"dimension\":1,\"ticker\":null},\"id\":\"1220\",\"type\":\"Grid\"},{\"attributes\":{\"data\":{\"left\":{\"__ndarray__\":\"AAAAAAAAAABVVVVVVVXlP1VVVVVVVfU/\",\"dtype\":\"float64\",\"order\":\"little\",\"shape\":[3]},\"right\":{\"__ndarray__\":\"VVVVVVVV5T9VVVVVVVX1PwAAAAAAAABA\",\"dtype\":\"float64\",\"order\":\"little\",\"shape\":[3]},\"top\":{\"__ndarray__\":\"sp3vp8ZL3z+wcmiR7XzfP873U+Olm+A/\",\"dtype\":\"float64\",\"order\":\"little\",\"shape\":[3]}},\"selected\":{\"id\":\"1335\"},\"selection_policy\":{\"id\":\"1336\"}},\"id\":\"1077\",\"type\":\"ColumnDataSource\"},{\"attributes\":{},\"id\":\"1360\",\"type\":\"UnionRenderers\"},{\"attributes\":{},\"id\":\"1302\",\"type\":\"WheelZoomTool\"},{\"attributes\":{},\"id\":\"1022\",\"type\":\"WheelZoomTool\"},{\"attributes\":{\"below\":[{\"id\":\"1013\"}],\"center\":[{\"id\":\"1016\"},{\"id\":\"1020\"}],\"left\":[{\"id\":\"1017\"}],\"plot_height\":250,\"plot_width\":250,\"renderers\":[{\"id\":\"1040\"}],\"title\":{\"id\":\"1003\"},\"toolbar\":{\"id\":\"1028\"},\"toolbar_location\":null,\"x_range\":{\"id\":\"1005\"},\"x_scale\":{\"id\":\"1009\"},\"y_range\":{\"id\":\"1007\"},\"y_scale\":{\"id\":\"1011\"}},\"id\":\"1002\",\"subtype\":\"Figure\",\"type\":\"Plot\"},{\"attributes\":{},\"id\":\"1247\",\"type\":\"DataRange1d\"},{\"attributes\":{\"below\":[{\"id\":\"1253\"}],\"center\":[{\"id\":\"1256\"},{\"id\":\"1260\"}],\"left\":[{\"id\":\"1257\"}],\"plot_height\":250,\"plot_width\":250,\"renderers\":[{\"id\":\"1280\"}],\"title\":{\"id\":\"1243\"},\"toolbar\":{\"id\":\"1268\"},\"toolbar_location\":null,\"x_range\":{\"id\":\"1245\"},\"x_scale\":{\"id\":\"1249\"},\"y_range\":{\"id\":\"1247\"},\"y_scale\":{\"id\":\"1251\"}},\"id\":\"1242\",\"subtype\":\"Figure\",\"type\":\"Plot\"},{\"attributes\":{},\"id\":\"1125\",\"type\":\"DataRange1d\"},{\"attributes\":{\"axis\":{\"id\":\"1213\"},\"ticker\":null,\"visible\":false},\"id\":\"1216\",\"type\":\"Grid\"},{\"attributes\":{},\"id\":\"1336\",\"type\":\"UnionRenderers\"},{\"attributes\":{\"overlay\":{\"id\":\"1027\"}},\"id\":\"1023\",\"type\":\"BoxZoomTool\"},{\"attributes\":{\"overlay\":{\"id\":\"1307\"}},\"id\":\"1303\",\"type\":\"BoxZoomTool\"},{\"attributes\":{},\"id\":\"1251\",\"type\":\"LinearScale\"},{\"attributes\":{},\"id\":\"1371\",\"type\":\"BasicTickFormatter\"},{\"attributes\":{\"text\":\"obs = [-1.1241615  -0.05058045]\"},\"id\":\"1123\",\"type\":\"Title\"},{\"attributes\":{},\"id\":\"1169\",\"type\":\"LinearScale\"},{\"attributes\":{},\"id\":\"1218\",\"type\":\"BasicTicker\"},{\"attributes\":{},\"id\":\"1024\",\"type\":\"SaveTool\"},{\"attributes\":{},\"id\":\"1304\",\"type\":\"SaveTool\"},{\"attributes\":{\"axis_label\":\"Action Distribution\",\"formatter\":{\"id\":\"1364\"},\"ticker\":{\"id\":\"1218\"}},\"id\":\"1217\",\"type\":\"LinearAxis\"},{\"attributes\":{\"axis_label\":\"Actions\",\"formatter\":{\"id\":\"1371\"},\"major_label_overrides\":{\"0.3333333333333333\":\"0\",\"1.0\":\"1\",\"1.6666666666666665\":\"2\"},\"ticker\":{\"id\":\"1275\"}},\"id\":\"1253\",\"type\":\"LinearAxis\"},{\"attributes\":{\"axis\":{\"id\":\"1257\"},\"dimension\":1,\"ticker\":null},\"id\":\"1260\",\"type\":\"Grid\"},{\"attributes\":{\"source\":{\"id\":\"1157\"}},\"id\":\"1161\",\"type\":\"CDSView\"},{\"attributes\":{},\"id\":\"1363\",\"type\":\"BasicTickFormatter\"},{\"attributes\":{},\"id\":\"1375\",\"type\":\"Selection\"},{\"attributes\":{},\"id\":\"1025\",\"type\":\"ResetTool\"},{\"attributes\":{},\"id\":\"1305\",\"type\":\"ResetTool\"},{\"attributes\":{\"text\":\"obs = [-0.8498787  0.0604295]\"},\"id\":\"1003\",\"type\":\"Title\"},{\"attributes\":{},\"id\":\"1364\",\"type\":\"BasicTickFormatter\"},{\"attributes\":{\"ticks\":[0.3333333333333333,1.0,1.6666666666666665]},\"id\":\"1235\",\"type\":\"FixedTicker\"},{\"attributes\":{\"bottom\":{\"value\":0},\"fill_alpha\":{\"value\":0.5},\"fill_color\":{\"value\":\"#1f77b4\"},\"left\":{\"field\":\"left\"},\"line_alpha\":{\"value\":0.5},\"line_color\":{\"value\":\"white\"},\"right\":{\"field\":\"right\"},\"top\":{\"field\":\"top\"}},\"id\":\"1238\",\"type\":\"Quad\"},{\"attributes\":{},\"id\":\"1335\",\"type\":\"Selection\"},{\"attributes\":{},\"id\":\"1165\",\"type\":\"DataRange1d\"},{\"attributes\":{\"axis\":{\"id\":\"1253\"},\"ticker\":null,\"visible\":false},\"id\":\"1256\",\"type\":\"Grid\"},{\"attributes\":{},\"id\":\"1098\",\"type\":\"BasicTicker\"},{\"attributes\":{},\"id\":\"1306\",\"type\":\"HelpTool\"},{\"attributes\":{\"axis\":{\"id\":\"1093\"},\"ticker\":null,\"visible\":false},\"id\":\"1096\",\"type\":\"Grid\"},{\"attributes\":{},\"id\":\"1368\",\"type\":\"UnionRenderers\"},{\"attributes\":{\"below\":[{\"id\":\"1093\"}],\"center\":[{\"id\":\"1096\"},{\"id\":\"1100\"}],\"left\":[{\"id\":\"1097\"}],\"plot_height\":250,\"plot_width\":250,\"renderers\":[{\"id\":\"1120\"}],\"title\":{\"id\":\"1083\"},\"toolbar\":{\"id\":\"1108\"},\"toolbar_location\":null,\"x_range\":{\"id\":\"1085\"},\"x_scale\":{\"id\":\"1089\"},\"y_range\":{\"id\":\"1087\"},\"y_scale\":{\"id\":\"1091\"}},\"id\":\"1082\",\"subtype\":\"Figure\",\"type\":\"Plot\"},{\"attributes\":{},\"id\":\"1127\",\"type\":\"DataRange1d\"},{\"attributes\":{\"text\":\"obs = [-0.20031275  0.06204908]\"},\"id\":\"1163\",\"type\":\"Title\"},{\"attributes\":{},\"id\":\"1258\",\"type\":\"BasicTicker\"},{\"attributes\":{},\"id\":\"1131\",\"type\":\"LinearScale\"},{\"attributes\":{\"axis_label\":\"Action Distribution\",\"formatter\":{\"id\":\"1372\"},\"ticker\":{\"id\":\"1258\"}},\"id\":\"1257\",\"type\":\"LinearAxis\"},{\"attributes\":{\"bottom_units\":\"screen\",\"fill_alpha\":0.5,\"fill_color\":\"lightgrey\",\"left_units\":\"screen\",\"level\":\"overlay\",\"line_alpha\":1.0,\"line_color\":\"black\",\"line_dash\":[4,4],\"line_width\":2,\"right_units\":\"screen\",\"top_units\":\"screen\"},\"id\":\"1067\",\"type\":\"BoxAnnotation\"},{\"attributes\":{},\"id\":\"1058\",\"type\":\"BasicTicker\"},{\"attributes\":{\"data\":{\"left\":{\"__ndarray__\":\"AAAAAAAAAABVVVVVVVXlP1VVVVVVVfU/\",\"dtype\":\"float64\",\"order\":\"little\",\"shape\":[3]},\"right\":{\"__ndarray__\":\"VVVVVVVV5T9VVVVVVVX1PwAAAAAAAABA\",\"dtype\":\"float64\",\"order\":\"little\",\"shape\":[3]},\"top\":{\"__ndarray__\":\"EoPAyqFF4D9U46WbxCDgPzIzMzMzM98/\",\"dtype\":\"float64\",\"order\":\"little\",\"shape\":[3]}},\"selected\":{\"id\":\"1367\"},\"selection_policy\":{\"id\":\"1368\"}},\"id\":\"1237\",\"type\":\"ColumnDataSource\"},{\"attributes\":{},\"id\":\"1379\",\"type\":\"BasicTickFormatter\"},{\"attributes\":{},\"id\":\"1344\",\"type\":\"UnionRenderers\"},{\"attributes\":{},\"id\":\"1383\",\"type\":\"Selection\"},{\"attributes\":{\"axis_label\":\"Actions\",\"formatter\":{\"id\":\"1347\"},\"major_label_overrides\":{\"0.3333333333333333\":\"0\",\"1.0\":\"1\",\"1.6666666666666665\":\"2\"},\"ticker\":{\"id\":\"1155\"}},\"id\":\"1133\",\"type\":\"LinearAxis\"},{\"attributes\":{\"data_source\":{\"id\":\"1237\"},\"glyph\":{\"id\":\"1238\"},\"hover_glyph\":null,\"muted_glyph\":null,\"nonselection_glyph\":{\"id\":\"1239\"},\"selection_glyph\":null,\"view\":{\"id\":\"1241\"}},\"id\":\"1240\",\"type\":\"GlyphRenderer\"},{\"attributes\":{},\"id\":\"1347\",\"type\":\"BasicTickFormatter\"},{\"attributes\":{\"bottom\":{\"value\":0},\"fill_alpha\":{\"value\":0.5},\"fill_color\":{\"value\":\"#1f77b4\"},\"left\":{\"field\":\"left\"},\"line_alpha\":{\"value\":0.5},\"line_color\":{\"value\":\"white\"},\"right\":{\"field\":\"right\"},\"top\":{\"field\":\"top\"}},\"id\":\"1278\",\"type\":\"Quad\"},{\"attributes\":{\"toolbars\":[{\"id\":\"1028\"},{\"id\":\"1068\"},{\"id\":\"1108\"},{\"id\":\"1148\"},{\"id\":\"1188\"},{\"id\":\"1228\"},{\"id\":\"1268\"},{\"id\":\"1308\"}],\"tools\":[{\"id\":\"1021\"},{\"id\":\"1022\"},{\"id\":\"1023\"},{\"id\":\"1024\"},{\"id\":\"1025\"},{\"id\":\"1026\"},{\"id\":\"1061\"},{\"id\":\"1062\"},{\"id\":\"1063\"},{\"id\":\"1064\"},{\"id\":\"1065\"},{\"id\":\"1066\"},{\"id\":\"1101\"},{\"id\":\"1102\"},{\"id\":\"1103\"},{\"id\":\"1104\"},{\"id\":\"1105\"},{\"id\":\"1106\"},{\"id\":\"1141\"},{\"id\":\"1142\"},{\"id\":\"1143\"},{\"id\":\"1144\"},{\"id\":\"1145\"},{\"id\":\"1146\"},{\"id\":\"1181\"},{\"id\":\"1182\"},{\"id\":\"1183\"},{\"id\":\"1184\"},{\"id\":\"1185\"},{\"id\":\"1186\"},{\"id\":\"1221\"},{\"id\":\"1222\"},{\"id\":\"1223\"},{\"id\":\"1224\"},{\"id\":\"1225\"},{\"id\":\"1226\"},{\"id\":\"1261\"},{\"id\":\"1262\"},{\"id\":\"1263\"},{\"id\":\"1264\"},{\"id\":\"1265\"},{\"id\":\"1266\"},{\"id\":\"1301\"},{\"id\":\"1302\"},{\"id\":\"1303\"},{\"id\":\"1304\"},{\"id\":\"1305\"},{\"id\":\"1306\"}]},\"id\":\"1387\",\"type\":\"ProxyToolbar\"},{\"attributes\":{},\"id\":\"1221\",\"type\":\"PanTool\"},{\"attributes\":{},\"id\":\"1087\",\"type\":\"DataRange1d\"},{\"attributes\":{\"axis\":{\"id\":\"1137\"},\"dimension\":1,\"ticker\":null},\"id\":\"1140\",\"type\":\"Grid\"},{\"attributes\":{},\"id\":\"1171\",\"type\":\"LinearScale\"},{\"attributes\":{\"ticks\":[0.3333333333333333,1.0,1.6666666666666665]},\"id\":\"1275\",\"type\":\"FixedTicker\"},{\"attributes\":{},\"id\":\"1372\",\"type\":\"BasicTickFormatter\"},{\"attributes\":{\"bottom\":{\"value\":0},\"fill_alpha\":{\"value\":0.1},\"fill_color\":{\"value\":\"#1f77b4\"},\"left\":{\"field\":\"left\"},\"line_alpha\":{\"value\":0.1},\"line_color\":{\"value\":\"white\"},\"right\":{\"field\":\"right\"},\"top\":{\"field\":\"top\"}},\"id\":\"1279\",\"type\":\"Quad\"},{\"attributes\":{},\"id\":\"1222\",\"type\":\"WheelZoomTool\"},{\"attributes\":{},\"id\":\"1091\",\"type\":\"LinearScale\"},{\"attributes\":{\"source\":{\"id\":\"1077\"}},\"id\":\"1081\",\"type\":\"CDSView\"},{\"attributes\":{\"axis\":{\"id\":\"1133\"},\"ticker\":null,\"visible\":false},\"id\":\"1136\",\"type\":\"Grid\"},{\"attributes\":{},\"id\":\"1167\",\"type\":\"DataRange1d\"},{\"attributes\":{},\"id\":\"1376\",\"type\":\"UnionRenderers\"},{\"attributes\":{\"overlay\":{\"id\":\"1227\"}},\"id\":\"1223\",\"type\":\"BoxZoomTool\"},{\"attributes\":{\"active_drag\":\"auto\",\"active_inspect\":\"auto\",\"active_multi\":null,\"active_scroll\":\"auto\",\"active_tap\":\"auto\",\"tools\":[{\"id\":\"1261\"},{\"id\":\"1262\"},{\"id\":\"1263\"},{\"id\":\"1264\"},{\"id\":\"1265\"},{\"id\":\"1266\"}]},\"id\":\"1268\",\"type\":\"Toolbar\"},{\"attributes\":{\"axis_label\":\"Actions\",\"formatter\":{\"id\":\"1339\"},\"major_label_overrides\":{\"0.3333333333333333\":\"0\",\"1.0\":\"1\",\"1.6666666666666665\":\"2\"},\"ticker\":{\"id\":\"1115\"}},\"id\":\"1093\",\"type\":\"LinearAxis\"},{\"attributes\":{},\"id\":\"1340\",\"type\":\"BasicTickFormatter\"},{\"attributes\":{},\"id\":\"1138\",\"type\":\"BasicTicker\"},{\"attributes\":{\"data\":{\"left\":{\"__ndarray__\":\"AAAAAAAAAABVVVVVVVXlP1VVVVVVVfU/\",\"dtype\":\"float64\",\"order\":\"little\",\"shape\":[3]},\"right\":{\"__ndarray__\":\"VVVVVVVV5T9VVVVVVVX1PwAAAAAAAABA\",\"dtype\":\"float64\",\"order\":\"little\",\"shape\":[3]},\"top\":{\"__ndarray__\":\"NV66SQwC3z+Nl24Sg8DgP69yaJHtfN8/\",\"dtype\":\"float64\",\"order\":\"little\",\"shape\":[3]}},\"selected\":{\"id\":\"1375\"},\"selection_policy\":{\"id\":\"1376\"}},\"id\":\"1277\",\"type\":\"ColumnDataSource\"},{\"attributes\":{\"toolbar\":{\"id\":\"1387\"},\"toolbar_location\":\"above\"},\"id\":\"1388\",\"type\":\"ToolbarBox\"},{\"attributes\":{},\"id\":\"1224\",\"type\":\"SaveTool\"},{\"attributes\":{\"axis_label\":\"Action Distribution\",\"formatter\":{\"id\":\"1348\"},\"ticker\":{\"id\":\"1138\"}},\"id\":\"1137\",\"type\":\"LinearAxis\"},{\"attributes\":{\"axis_label\":\"Actions\",\"formatter\":{\"id\":\"1355\"},\"major_label_overrides\":{\"0.3333333333333333\":\"0\",\"1.0\":\"1\",\"1.6666666666666665\":\"2\"},\"ticker\":{\"id\":\"1195\"}},\"id\":\"1173\",\"type\":\"LinearAxis\"},{\"attributes\":{},\"id\":\"1261\",\"type\":\"PanTool\"},{\"attributes\":{\"axis\":{\"id\":\"1097\"},\"dimension\":1,\"ticker\":null},\"id\":\"1100\",\"type\":\"Grid\"},{\"attributes\":{\"data_source\":{\"id\":\"1277\"},\"glyph\":{\"id\":\"1278\"},\"hover_glyph\":null,\"muted_glyph\":null,\"nonselection_glyph\":{\"id\":\"1279\"},\"selection_glyph\":null,\"view\":{\"id\":\"1281\"}},\"id\":\"1280\",\"type\":\"GlyphRenderer\"},{\"attributes\":{\"bottom\":{\"value\":0},\"fill_alpha\":{\"value\":0.5},\"fill_color\":{\"value\":\"#1f77b4\"},\"left\":{\"field\":\"left\"},\"line_alpha\":{\"value\":0.5},\"line_color\":{\"value\":\"white\"},\"right\":{\"field\":\"right\"},\"top\":{\"field\":\"top\"}},\"id\":\"1078\",\"type\":\"Quad\"},{\"attributes\":{},\"id\":\"1225\",\"type\":\"ResetTool\"},{\"attributes\":{\"bottom\":{\"value\":0},\"fill_alpha\":{\"value\":0.5},\"fill_color\":{\"value\":\"#1f77b4\"},\"left\":{\"field\":\"left\"},\"line_alpha\":{\"value\":0.5},\"line_color\":{\"value\":\"white\"},\"right\":{\"field\":\"right\"},\"top\":{\"field\":\"top\"}},\"id\":\"1158\",\"type\":\"Quad\"},{\"attributes\":{},\"id\":\"1380\",\"type\":\"BasicTickFormatter\"},{\"attributes\":{\"bottom\":{\"value\":0},\"fill_alpha\":{\"value\":0.5},\"fill_color\":{\"value\":\"#1f77b4\"},\"left\":{\"field\":\"left\"},\"line_alpha\":{\"value\":0.5},\"line_color\":{\"value\":\"white\"},\"right\":{\"field\":\"right\"},\"top\":{\"field\":\"top\"}},\"id\":\"1318\",\"type\":\"Quad\"},{\"attributes\":{\"below\":[{\"id\":\"1173\"}],\"center\":[{\"id\":\"1176\"},{\"id\":\"1180\"}],\"left\":[{\"id\":\"1177\"}],\"plot_height\":250,\"plot_width\":250,\"renderers\":[{\"id\":\"1200\"}],\"title\":{\"id\":\"1163\"},\"toolbar\":{\"id\":\"1188\"},\"toolbar_location\":null,\"x_range\":{\"id\":\"1165\"},\"x_scale\":{\"id\":\"1169\"},\"y_range\":{\"id\":\"1167\"},\"y_scale\":{\"id\":\"1171\"}},\"id\":\"1162\",\"subtype\":\"Figure\",\"type\":\"Plot\"},{\"attributes\":{},\"id\":\"1101\",\"type\":\"PanTool\"},{\"attributes\":{},\"id\":\"1262\",\"type\":\"WheelZoomTool\"},{\"attributes\":{},\"id\":\"1085\",\"type\":\"DataRange1d\"},{\"attributes\":{\"axis\":{\"id\":\"1173\"},\"ticker\":null,\"visible\":false},\"id\":\"1176\",\"type\":\"Grid\"},{\"attributes\":{\"bottom_units\":\"screen\",\"fill_alpha\":0.5,\"fill_color\":\"lightgrey\",\"left_units\":\"screen\",\"level\":\"overlay\",\"line_alpha\":1.0,\"line_color\":\"black\",\"line_dash\":[4,4],\"line_width\":2,\"right_units\":\"screen\",\"top_units\":\"screen\"},\"id\":\"1027\",\"type\":\"BoxAnnotation\"},{\"attributes\":{\"ticks\":[0.3333333333333333,1.0,1.6666666666666665]},\"id\":\"1075\",\"type\":\"FixedTicker\"},{\"attributes\":{\"ticks\":[0.3333333333333333,1.0,1.6666666666666665]},\"id\":\"1155\",\"type\":\"FixedTicker\"},{\"attributes\":{},\"id\":\"1102\",\"type\":\"WheelZoomTool\"},{\"attributes\":{},\"id\":\"1226\",\"type\":\"HelpTool\"},{\"attributes\":{\"overlay\":{\"id\":\"1267\"}},\"id\":\"1263\",\"type\":\"BoxZoomTool\"},{\"attributes\":{},\"id\":\"1089\",\"type\":\"LinearScale\"},{\"attributes\":{\"bottom_units\":\"screen\",\"fill_alpha\":0.5,\"fill_color\":\"lightgrey\",\"left_units\":\"screen\",\"level\":\"overlay\",\"line_alpha\":1.0,\"line_color\":\"black\",\"line_dash\":[4,4],\"line_width\":2,\"right_units\":\"screen\",\"top_units\":\"screen\"},\"id\":\"1307\",\"type\":\"BoxAnnotation\"},{\"attributes\":{},\"id\":\"1178\",\"type\":\"BasicTicker\"},{\"attributes\":{},\"id\":\"1384\",\"type\":\"UnionRenderers\"},{\"attributes\":{\"overlay\":{\"id\":\"1107\"}},\"id\":\"1103\",\"type\":\"BoxZoomTool\"},{\"attributes\":{},\"id\":\"1264\",\"type\":\"SaveTool\"},{\"attributes\":{\"active_drag\":\"auto\",\"active_inspect\":\"auto\",\"active_multi\":null,\"active_scroll\":\"auto\",\"active_tap\":\"auto\",\"tools\":[{\"id\":\"1221\"},{\"id\":\"1222\"},{\"id\":\"1223\"},{\"id\":\"1224\"},{\"id\":\"1225\"},{\"id\":\"1226\"}]},\"id\":\"1228\",\"type\":\"Toolbar\"},{\"attributes\":{\"axis_label\":\"Action Distribution\",\"formatter\":{\"id\":\"1356\"},\"ticker\":{\"id\":\"1178\"}},\"id\":\"1177\",\"type\":\"LinearAxis\"},{\"attributes\":{},\"id\":\"1332\",\"type\":\"BasicTickFormatter\"},{\"attributes\":{\"data\":{\"left\":{\"__ndarray__\":\"AAAAAAAAAABVVVVVVVXlP1VVVVVVVfU/\",\"dtype\":\"float64\",\"order\":\"little\",\"shape\":[3]},\"right\":{\"__ndarray__\":\"VVVVVVVV5T9VVVVVVVX1PwAAAAAAAABA\",\"dtype\":\"float64\",\"order\":\"little\",\"shape\":[3]},\"top\":{\"__ndarray__\":\"NV66SQwC3z+0yHa+nxrfP4ps5/up8eA/\",\"dtype\":\"float64\",\"order\":\"little\",\"shape\":[3]}},\"selected\":{\"id\":\"1351\"},\"selection_policy\":{\"id\":\"1352\"}},\"id\":\"1157\",\"type\":\"ColumnDataSource\"},{\"attributes\":{\"data\":{\"left\":{\"__ndarray__\":\"AAAAAAAAAABVVVVVVVXlP1VVVVVVVfU/\",\"dtype\":\"float64\",\"order\":\"little\",\"shape\":[3]},\"right\":{\"__ndarray__\":\"VVVVVVVV5T9VVVVVVVX1PwAAAAAAAABA\",\"dtype\":\"float64\",\"order\":\"little\",\"shape\":[3]},\"top\":{\"__ndarray__\":\"K4cW2c733z9U46WbxCDgPyyyne+nxt8/\",\"dtype\":\"float64\",\"order\":\"little\",\"shape\":[3]}},\"selected\":{\"id\":\"1383\"},\"selection_policy\":{\"id\":\"1384\"}},\"id\":\"1317\",\"type\":\"ColumnDataSource\"},{\"attributes\":{},\"id\":\"1061\",\"type\":\"PanTool\"},{\"attributes\":{},\"id\":\"1104\",\"type\":\"SaveTool\"},{\"attributes\":{},\"id\":\"1265\",\"type\":\"ResetTool\"},{\"attributes\":{\"data_source\":{\"id\":\"1157\"},\"glyph\":{\"id\":\"1158\"},\"hover_glyph\":null,\"muted_glyph\":null,\"nonselection_glyph\":{\"id\":\"1159\"},\"selection_glyph\":null,\"view\":{\"id\":\"1161\"}},\"id\":\"1160\",\"type\":\"GlyphRenderer\"},{\"attributes\":{},\"id\":\"1007\",\"type\":\"DataRange1d\"},{\"attributes\":{},\"id\":\"1062\",\"type\":\"WheelZoomTool\"},{\"attributes\":{},\"id\":\"1141\",\"type\":\"PanTool\"},{\"attributes\":{\"axis\":{\"id\":\"1297\"},\"dimension\":1,\"ticker\":null},\"id\":\"1300\",\"type\":\"Grid\"},{\"attributes\":{\"below\":[{\"id\":\"1293\"}],\"center\":[{\"id\":\"1296\"},{\"id\":\"1300\"}],\"left\":[{\"id\":\"1297\"}],\"plot_height\":250,\"plot_width\":250,\"renderers\":[{\"id\":\"1320\"}],\"title\":{\"id\":\"1283\"},\"toolbar\":{\"id\":\"1308\"},\"toolbar_location\":null,\"x_range\":{\"id\":\"1285\"},\"x_scale\":{\"id\":\"1289\"},\"y_range\":{\"id\":\"1287\"},\"y_scale\":{\"id\":\"1291\"}},\"id\":\"1282\",\"subtype\":\"Figure\",\"type\":\"Plot\"},{\"attributes\":{},\"id\":\"1105\",\"type\":\"ResetTool\"},{\"attributes\":{\"axis\":{\"id\":\"1293\"},\"ticker\":null,\"visible\":false},\"id\":\"1296\",\"type\":\"Grid\"},{\"attributes\":{\"axis_label\":\"Action Distribution\",\"formatter\":{\"id\":\"1380\"},\"ticker\":{\"id\":\"1298\"}},\"id\":\"1297\",\"type\":\"LinearAxis\"},{\"attributes\":{},\"id\":\"1011\",\"type\":\"LinearScale\"},{\"attributes\":{\"active_drag\":\"auto\",\"active_inspect\":\"auto\",\"active_multi\":null,\"active_scroll\":\"auto\",\"active_tap\":\"auto\",\"tools\":[{\"id\":\"1021\"},{\"id\":\"1022\"},{\"id\":\"1023\"},{\"id\":\"1024\"},{\"id\":\"1025\"},{\"id\":\"1026\"}]},\"id\":\"1028\",\"type\":\"Toolbar\"},{\"attributes\":{},\"id\":\"1142\",\"type\":\"WheelZoomTool\"},{\"attributes\":{},\"id\":\"1266\",\"type\":\"HelpTool\"},{\"attributes\":{},\"id\":\"1009\",\"type\":\"LinearScale\"},{\"attributes\":{\"overlay\":{\"id\":\"1067\"}},\"id\":\"1063\",\"type\":\"BoxZoomTool\"},{\"attributes\":{\"axis_label\":\"Action Distribution\",\"formatter\":{\"id\":\"1332\"},\"ticker\":{\"id\":\"1058\"}},\"id\":\"1057\",\"type\":\"LinearAxis\"},{\"attributes\":{\"bottom\":{\"value\":0},\"fill_alpha\":{\"value\":0.1},\"fill_color\":{\"value\":\"#1f77b4\"},\"left\":{\"field\":\"left\"},\"line_alpha\":{\"value\":0.1},\"line_color\":{\"value\":\"white\"},\"right\":{\"field\":\"right\"},\"top\":{\"field\":\"top\"}},\"id\":\"1319\",\"type\":\"Quad\"},{\"attributes\":{},\"id\":\"1106\",\"type\":\"HelpTool\"},{\"attributes\":{\"overlay\":{\"id\":\"1147\"}},\"id\":\"1143\",\"type\":\"BoxZoomTool\"},{\"attributes\":{},\"id\":\"1287\",\"type\":\"DataRange1d\"},{\"attributes\":{},\"id\":\"1339\",\"type\":\"BasicTickFormatter\"},{\"attributes\":{\"bottom_units\":\"screen\",\"fill_alpha\":0.5,\"fill_color\":\"lightgrey\",\"left_units\":\"screen\",\"level\":\"overlay\",\"line_alpha\":1.0,\"line_color\":\"black\",\"line_dash\":[4,4],\"line_width\":2,\"right_units\":\"screen\",\"top_units\":\"screen\"},\"id\":\"1187\",\"type\":\"BoxAnnotation\"},{\"attributes\":{},\"id\":\"1343\",\"type\":\"Selection\"},{\"attributes\":{\"children\":[[{\"id\":\"1002\"},0,0],[{\"id\":\"1042\"},0,1],[{\"id\":\"1082\"},0,2],[{\"id\":\"1122\"},0,3],[{\"id\":\"1162\"},1,0],[{\"id\":\"1202\"},1,1],[{\"id\":\"1242\"},1,2],[{\"id\":\"1282\"},1,3]]},\"id\":\"1386\",\"type\":\"GridBox\"},{\"attributes\":{},\"id\":\"1144\",\"type\":\"SaveTool\"},{\"attributes\":{\"active_drag\":\"auto\",\"active_inspect\":\"auto\",\"active_multi\":null,\"active_scroll\":\"auto\",\"active_tap\":\"auto\",\"tools\":[{\"id\":\"1101\"},{\"id\":\"1102\"},{\"id\":\"1103\"},{\"id\":\"1104\"},{\"id\":\"1105\"},{\"id\":\"1106\"}]},\"id\":\"1108\",\"type\":\"Toolbar\"},{\"attributes\":{\"source\":{\"id\":\"1277\"}},\"id\":\"1281\",\"type\":\"CDSView\"},{\"attributes\":{},\"id\":\"1145\",\"type\":\"ResetTool\"},{\"attributes\":{\"active_drag\":\"auto\",\"active_inspect\":\"auto\",\"active_multi\":null,\"active_scroll\":\"auto\",\"active_tap\":\"auto\",\"tools\":[{\"id\":\"1181\"},{\"id\":\"1182\"},{\"id\":\"1183\"},{\"id\":\"1184\"},{\"id\":\"1185\"},{\"id\":\"1186\"}]},\"id\":\"1188\",\"type\":\"Toolbar\"},{\"attributes\":{\"data_source\":{\"id\":\"1037\"},\"glyph\":{\"id\":\"1038\"},\"hover_glyph\":null,\"muted_glyph\":null,\"nonselection_glyph\":{\"id\":\"1039\"},\"selection_glyph\":null,\"view\":{\"id\":\"1041\"}},\"id\":\"1040\",\"type\":\"GlyphRenderer\"},{\"attributes\":{\"axis\":{\"id\":\"1177\"},\"dimension\":1,\"ticker\":null},\"id\":\"1180\",\"type\":\"Grid\"},{\"attributes\":{},\"id\":\"1285\",\"type\":\"DataRange1d\"},{\"attributes\":{\"text\":\"obs = [0.38129252 0.00949939]\"},\"id\":\"1283\",\"type\":\"Title\"},{\"attributes\":{},\"id\":\"1323\",\"type\":\"BasicTickFormatter\"},{\"attributes\":{\"bottom\":{\"value\":0},\"fill_alpha\":{\"value\":0.1},\"fill_color\":{\"value\":\"#1f77b4\"},\"left\":{\"field\":\"left\"},\"line_alpha\":{\"value\":0.1},\"line_color\":{\"value\":\"white\"},\"right\":{\"field\":\"right\"},\"top\":{\"field\":\"top\"}},\"id\":\"1039\",\"type\":\"Quad\"},{\"attributes\":{\"axis\":{\"id\":\"1053\"},\"ticker\":null,\"visible\":false},\"id\":\"1056\",\"type\":\"Grid\"},{\"attributes\":{\"data\":{\"left\":{\"__ndarray__\":\"AAAAAAAAAABVVVVVVVXlP1VVVVVVVfU/\",\"dtype\":\"float64\",\"order\":\"little\",\"shape\":[3]},\"right\":{\"__ndarray__\":\"VVVVVVVV5T9VVVVVVVX1PwAAAAAAAABA\",\"dtype\":\"float64\",\"order\":\"little\",\"shape\":[3]},\"top\":{\"__ndarray__\":\"xSCwcmiR4T/HSzeJQWDdP69yaJHtfN8/\",\"dtype\":\"float64\",\"order\":\"little\",\"shape\":[3]}},\"selected\":{\"id\":\"1327\"},\"selection_policy\":{\"id\":\"1328\"}},\"id\":\"1037\",\"type\":\"ColumnDataSource\"},{\"attributes\":{\"bottom\":{\"value\":0},\"fill_alpha\":{\"value\":0.1},\"fill_color\":{\"value\":\"#1f77b4\"},\"left\":{\"field\":\"left\"},\"line_alpha\":{\"value\":0.1},\"line_color\":{\"value\":\"white\"},\"right\":{\"field\":\"right\"},\"top\":{\"field\":\"top\"}},\"id\":\"1159\",\"type\":\"Quad\"},{\"attributes\":{\"bottom\":{\"value\":0},\"fill_alpha\":{\"value\":0.5},\"fill_color\":{\"value\":\"#1f77b4\"},\"left\":{\"field\":\"left\"},\"line_alpha\":{\"value\":0.5},\"line_color\":{\"value\":\"white\"},\"right\":{\"field\":\"right\"},\"top\":{\"field\":\"top\"}},\"id\":\"1198\",\"type\":\"Quad\"},{\"attributes\":{\"source\":{\"id\":\"1317\"}},\"id\":\"1321\",\"type\":\"CDSView\"},{\"attributes\":{\"below\":[{\"id\":\"1053\"}],\"center\":[{\"id\":\"1056\"},{\"id\":\"1060\"}],\"left\":[{\"id\":\"1057\"}],\"plot_height\":250,\"plot_width\":250,\"renderers\":[{\"id\":\"1080\"}],\"title\":{\"id\":\"1043\"},\"toolbar\":{\"id\":\"1068\"},\"toolbar_location\":null,\"x_range\":{\"id\":\"1045\"},\"x_scale\":{\"id\":\"1049\"},\"y_range\":{\"id\":\"1047\"},\"y_scale\":{\"id\":\"1051\"}},\"id\":\"1042\",\"subtype\":\"Figure\",\"type\":\"Plot\"},{\"attributes\":{\"text\":\"obs = [-0.6256137   0.06095816]\"},\"id\":\"1043\",\"type\":\"Title\"},{\"attributes\":{},\"id\":\"1047\",\"type\":\"DataRange1d\"},{\"attributes\":{\"ticks\":[0.3333333333333333,1.0,1.6666666666666665]},\"id\":\"1035\",\"type\":\"FixedTicker\"},{\"attributes\":{\"active_drag\":\"auto\",\"active_inspect\":\"auto\",\"active_multi\":null,\"active_scroll\":\"auto\",\"active_tap\":\"auto\",\"tools\":[{\"id\":\"1061\"},{\"id\":\"1062\"},{\"id\":\"1063\"},{\"id\":\"1064\"},{\"id\":\"1065\"},{\"id\":\"1066\"}]},\"id\":\"1068\",\"type\":\"Toolbar\"},{\"attributes\":{\"axis_label\":\"Actions\",\"formatter\":{\"id\":\"1331\"},\"major_label_overrides\":{\"0.3333333333333333\":\"0\",\"1.0\":\"1\",\"1.6666666666666665\":\"2\"},\"ticker\":{\"id\":\"1075\"}},\"id\":\"1053\",\"type\":\"LinearAxis\"},{\"attributes\":{},\"id\":\"1051\",\"type\":\"LinearScale\"},{\"attributes\":{\"data_source\":{\"id\":\"1077\"},\"glyph\":{\"id\":\"1078\"},\"hover_glyph\":null,\"muted_glyph\":null,\"nonselection_glyph\":{\"id\":\"1079\"},\"selection_glyph\":null,\"view\":{\"id\":\"1081\"}},\"id\":\"1080\",\"type\":\"GlyphRenderer\"},{\"attributes\":{},\"id\":\"1045\",\"type\":\"DataRange1d\"},{\"attributes\":{},\"id\":\"1367\",\"type\":\"Selection\"},{\"attributes\":{},\"id\":\"1066\",\"type\":\"HelpTool\"},{\"attributes\":{},\"id\":\"1065\",\"type\":\"ResetTool\"},{\"attributes\":{\"below\":[{\"id\":\"1133\"}],\"center\":[{\"id\":\"1136\"},{\"id\":\"1140\"}],\"left\":[{\"id\":\"1137\"}],\"plot_height\":250,\"plot_width\":250,\"renderers\":[{\"id\":\"1160\"}],\"title\":{\"id\":\"1123\"},\"toolbar\":{\"id\":\"1148\"},\"toolbar_location\":null,\"x_range\":{\"id\":\"1125\"},\"x_scale\":{\"id\":\"1129\"},\"y_range\":{\"id\":\"1127\"},\"y_scale\":{\"id\":\"1131\"}},\"id\":\"1122\",\"subtype\":\"Figure\",\"type\":\"Plot\"},{\"attributes\":{},\"id\":\"1005\",\"type\":\"DataRange1d\"},{\"attributes\":{},\"id\":\"1049\",\"type\":\"LinearScale\"},{\"attributes\":{\"bottom\":{\"value\":0},\"fill_alpha\":{\"value\":0.1},\"fill_color\":{\"value\":\"#1f77b4\"},\"left\":{\"field\":\"left\"},\"line_alpha\":{\"value\":0.1},\"line_color\":{\"value\":\"white\"},\"right\":{\"field\":\"right\"},\"top\":{\"field\":\"top\"}},\"id\":\"1239\",\"type\":\"Quad\"},{\"attributes\":{\"bottom\":{\"value\":0},\"fill_alpha\":{\"value\":0.1},\"fill_color\":{\"value\":\"#1f77b4\"},\"left\":{\"field\":\"left\"},\"line_alpha\":{\"value\":0.1},\"line_color\":{\"value\":\"white\"},\"right\":{\"field\":\"right\"},\"top\":{\"field\":\"top\"}},\"id\":\"1079\",\"type\":\"Quad\"},{\"attributes\":{\"axis\":{\"id\":\"1057\"},\"dimension\":1,\"ticker\":null},\"id\":\"1060\",\"type\":\"Grid\"}],\"root_ids\":[\"1389\"]},\"title\":\"Bokeh Application\",\"version\":\"2.2.3\"}};\n",
       "  var render_items = [{\"docid\":\"d7bada45-c39f-49e0-a501-da5afef2f13f\",\"root_ids\":[\"1389\"],\"roots\":{\"1389\":\"82e76231-73cd-4c52-869c-68113ad76ba7\"}}];\n",
       "  root.Bokeh.embed.embed_items_notebook(docs_json, render_items);\n",
       "\n",
       "  }\n",
       "  if (root.Bokeh !== undefined) {\n",
       "    embed_document(root);\n",
       "  } else {\n",
       "    var attempts = 0;\n",
       "    var timer = setInterval(function(root) {\n",
       "      if (root.Bokeh !== undefined) {\n",
       "        clearInterval(timer);\n",
       "        embed_document(root);\n",
       "      } else {\n",
       "        attempts++;\n",
       "        if (attempts > 100) {\n",
       "          clearInterval(timer);\n",
       "          console.log(\"Bokeh: ERROR: Unable to run BokehJS code because BokehJS library is missing\");\n",
       "        }\n",
       "      }\n",
       "    }, 10, root)\n",
       "  }\n",
       "})(window);"
      ],
      "application/vnd.bokehjs_exec.v0+json": ""
     },
     "metadata": {
      "application/vnd.bokehjs_exec.v0+json": {
       "id": "1389"
      }
     },
     "output_type": "display_data"
    }
   ],
   "source": [
    "plot_action_distribution(agent)"
   ]
  },
  {
   "cell_type": "markdown",
   "metadata": {},
   "source": [
    "## 3. Ciclo de Interação Agente-Ambiente\n",
    "\n",
    "Após entender a API do OpenAI Gym e se familiarizar com a interface geral de um agente de RL, estamos pronto para programar o ciclo de interação Agente-Ambiente.\n",
    "\n",
    "Note que tanto o *treinamento* como a *avaliação de performance* de agentes de RL (baseados em simuladores) dependem da coleta de experiências a fim de estimar uma diferentes grandezas que são necessárias nos algoritmos de RL (e.g., retorno de episódios, gradientes de políticas, ...).\n",
    "\n",
    "Esse é o objetivo principal do ciclo de interação com o ambiente: permitir ao agente explorar o ambiente e coletar dados para seu aprendizado.\n",
    "\n",
    "> **Atenção**: Praticamente todos os pacotes de RL disponíveis implementam uma versão desse loop de interação. Dessa forma, independentemente se seu objetivo é desenvolver sua própria biblioteca de RL ou apenas re-utilizar código pré-existente, é importante entender os principais conceitos envolvidos!"
   ]
  },
  {
   "cell_type": "markdown",
   "metadata": {},
   "source": [
    "Nessa seção testaremos a política aleatória em uma outra versão do ambiente MountainCar:"
   ]
  },
  {
   "cell_type": "code",
   "execution_count": 16,
   "metadata": {},
   "outputs": [],
   "source": [
    "env = gym.make(\"MountainCarContinuous-v0\")\n",
    "agent = RandomPolicy(env.observation_space, env.action_space)"
   ]
  },
  {
   "cell_type": "markdown",
   "metadata": {},
   "source": [
    "---\n",
    "\n",
    "**<font color=\"red\">EXERCÍCIO-PROGRAMA 1:</font>**\n",
    "\n",
    "Nesse exercício você deverá utilizar os métodos da API do Gym a fim de permitir que um agente de RL simule um episódio. Complete a função `sample_episode` com seu código e preste atenção para retornar as variáveis definidas na documentação. Caso necessário revise a <a href=\"/lab#1.2-Interface-do-Gym:-métodos-reset(),-step()-e-render()\" target=\"_self\">Seção 1.2</a>.\n",
    "\n",
    ">**Atenção**: Para visualizar o episódio não se esqueça de chamar `env.render()` durante a simulação da trajetória. Use a flag `render` em um *if-statement* do Python para dinamicamente habilitar a visualização. Uma vez que a parte gráfica consome muito tempo, é comum desabilitar a renderização do ambiente durante o treinamento e avaliação de um agente de RL. Além disso, chame `env.close()` ao final do ciclo para fechar a janela de simulação."
   ]
  },
  {
   "cell_type": "code",
   "execution_count": 17,
   "metadata": {},
   "outputs": [],
   "source": [
    "def sample_episode(agent, env, render=False):\n",
    "    \"\"\"\n",
    "    Simula um episódio completo de interação do agente com o ambiente.\n",
    "    \n",
    "    Args:\n",
    "        agent (Agent):         agente responsável por retornar ações.\n",
    "        env (gym.Environment): simulador de ambiente do OpenAI Gym.\n",
    "        render (bool):         (opcional) flag para habilitar a renderização do ambiente.\n",
    "        \n",
    "    Return:\n",
    "        (total_reward, episode_length): retorno obtido pelo agente no episódio e\n",
    "        número de passos de decisão realizados no episódio.\n",
    "    \"\"\"\n",
    "    total_reward = 0.0\n",
    "    episode_length = 0\n",
    "\n",
    "    # SEU CÓDIGO AQUI ===================================\n",
    "    obs = env.reset()\n",
    "    \n",
    "    done = False\n",
    "    while not done:\n",
    "        action = agent.step(obs)\n",
    "        next_obs, reward, done, _ = env.step(action)\n",
    "        \n",
    "        total_reward += reward\n",
    "        episode_length += 1\n",
    "        \n",
    "        if render:\n",
    "            env.render()\n",
    "            \n",
    "        obs = next_obs\n",
    "        \n",
    "    env.close()\n",
    "    \n",
    "    # ===================================================\n",
    "\n",
    "    return total_reward, episode_length\n"
   ]
  },
  {
   "cell_type": "markdown",
   "metadata": {},
   "source": [
    "Execute o código abaixo para testar a sua implementação."
   ]
  },
  {
   "cell_type": "code",
   "execution_count": 18,
   "metadata": {},
   "outputs": [
    {
     "name": "stdout",
     "output_type": "stream",
     "text": [
      "return = -31.6178, passos de decisão = 999\r"
     ]
    }
   ],
   "source": [
    "total_reward, episode_length = sample_episode(agent, env, render=True)\n",
    "print(f\"return = {total_reward:.4f}, passos de decisão = {episode_length}\\r\", end=\"\")"
   ]
  },
  {
   "cell_type": "markdown",
   "metadata": {},
   "source": [
    "A menos que você tenha tido sorte na simulação, você deve ter observado que o carro nunca chega próximo à linha de chegada. :(\n",
    "\n",
    "Não se preocupe vamos resolver isso nas próximas aulas!"
   ]
  },
  {
   "cell_type": "markdown",
   "metadata": {},
   "source": [
    "---"
   ]
  },
  {
   "cell_type": "markdown",
   "metadata": {},
   "source": [
    "Uma vez implementado a função `sample_episode` você pode amostrar diferentes trajetórias com a função `run` definida abaixo:"
   ]
  },
  {
   "cell_type": "code",
   "execution_count": 19,
   "metadata": {},
   "outputs": [],
   "source": [
    "def run(agent, env, num_episodes):\n",
    "    episode_returns, episode_lengths = [], []\n",
    "\n",
    "    for episode in range(num_episodes):\n",
    "        total_reward, episode_length = sample_episode(agent, env)\n",
    "    \n",
    "        episode_returns.append(total_reward)\n",
    "        episode_lengths.append(episode_length)\n",
    "\n",
    "        if episode % 10 == 0:\n",
    "            print(f\"episode = {episode}, return = {total_reward:.4f}, length = {episode_length}\\r\", end=\"\")\n",
    "\n",
    "    return episode_returns, episode_lengths\n",
    "    "
   ]
  },
  {
   "cell_type": "markdown",
   "metadata": {},
   "source": [
    "Execute o código abaixo para simular `NUM_EPISODES` trajetórias:"
   ]
  },
  {
   "cell_type": "code",
   "execution_count": 20,
   "metadata": {},
   "outputs": [
    {
     "name": "stdout",
     "output_type": "stream",
     "text": [
      "episode = 190, return = -33.5881, length = 999\r"
     ]
    },
    {
     "data": {
      "text/html": [
       "\n",
       "\n",
       "\n",
       "\n",
       "\n",
       "\n",
       "  <div class=\"bk-root\" id=\"876a6cfa-d7c0-43a8-aa3b-f477d5fe87ff\" data-root-id=\"1804\"></div>\n"
      ]
     },
     "metadata": {},
     "output_type": "display_data"
    },
    {
     "data": {
      "application/javascript": [
       "(function(root) {\n",
       "  function embed_document(root) {\n",
       "    \n",
       "  var docs_json = {\"39335f94-e121-4028-aeee-5fdedb995942\":{\"roots\":{\"references\":[{\"attributes\":{\"children\":[{\"id\":\"1726\"},{\"id\":\"1765\"}]},\"id\":\"1804\",\"type\":\"Row\"},{\"attributes\":{},\"id\":\"1768\",\"type\":\"DataRange1d\"},{\"attributes\":{},\"id\":\"1749\",\"type\":\"ResetTool\"},{\"attributes\":{\"overlay\":{\"id\":\"1790\"}},\"id\":\"1786\",\"type\":\"BoxZoomTool\"},{\"attributes\":{},\"id\":\"1772\",\"type\":\"LinearScale\"},{\"attributes\":{\"data_source\":{\"id\":\"1759\"},\"glyph\":{\"id\":\"1760\"},\"hover_glyph\":null,\"muted_glyph\":null,\"nonselection_glyph\":{\"id\":\"1761\"},\"selection_glyph\":null,\"view\":{\"id\":\"1763\"}},\"id\":\"1762\",\"type\":\"GlyphRenderer\"},{\"attributes\":{},\"id\":\"1787\",\"type\":\"SaveTool\"},{\"attributes\":{},\"id\":\"1863\",\"type\":\"BasicTickFormatter\"},{\"attributes\":{},\"id\":\"1750\",\"type\":\"HelpTool\"},{\"attributes\":{},\"id\":\"1788\",\"type\":\"ResetTool\"},{\"attributes\":{},\"id\":\"1735\",\"type\":\"LinearScale\"},{\"attributes\":{},\"id\":\"1785\",\"type\":\"WheelZoomTool\"},{\"attributes\":{\"axis_label\":\"Episodes\",\"formatter\":{\"id\":\"1863\"},\"ticker\":{\"id\":\"1738\"}},\"id\":\"1737\",\"type\":\"LinearAxis\"},{\"attributes\":{},\"id\":\"1770\",\"type\":\"DataRange1d\"},{\"attributes\":{},\"id\":\"1789\",\"type\":\"HelpTool\"},{\"attributes\":{\"axis\":{\"id\":\"1741\"},\"dimension\":1,\"ticker\":null},\"id\":\"1744\",\"type\":\"Grid\"},{\"attributes\":{},\"id\":\"1774\",\"type\":\"LinearScale\"},{\"attributes\":{},\"id\":\"1738\",\"type\":\"BasicTicker\"},{\"attributes\":{\"axis\":{\"id\":\"1737\"},\"ticker\":null},\"id\":\"1740\",\"type\":\"Grid\"},{\"attributes\":{\"axis_label\":\"Total Reward\",\"formatter\":{\"id\":\"1867\"},\"ticker\":{\"id\":\"1777\"}},\"id\":\"1776\",\"type\":\"LinearAxis\"},{\"attributes\":{\"axis\":{\"id\":\"1780\"},\"dimension\":1,\"ticker\":null},\"id\":\"1783\",\"type\":\"Grid\"},{\"attributes\":{},\"id\":\"1875\",\"type\":\"Selection\"},{\"attributes\":{\"below\":[{\"id\":\"1737\"}],\"center\":[{\"id\":\"1740\"},{\"id\":\"1744\"}],\"left\":[{\"id\":\"1741\"}],\"plot_height\":350,\"plot_width\":500,\"renderers\":[{\"id\":\"1762\"},{\"id\":\"1764\"}],\"title\":{\"id\":\"1727\"},\"toolbar\":{\"id\":\"1752\"},\"toolbar_location\":\"above\",\"x_range\":{\"id\":\"1729\"},\"x_scale\":{\"id\":\"1733\"},\"y_range\":{\"id\":\"1731\"},\"y_scale\":{\"id\":\"1735\"}},\"id\":\"1726\",\"subtype\":\"Figure\",\"type\":\"Plot\"},{\"attributes\":{},\"id\":\"1742\",\"type\":\"BasicTicker\"},{\"attributes\":{},\"id\":\"1777\",\"type\":\"BasicTicker\"},{\"attributes\":{\"axis_label\":\"Total Reward\",\"formatter\":{\"id\":\"1865\"},\"ticker\":{\"id\":\"1742\"}},\"id\":\"1741\",\"type\":\"LinearAxis\"},{\"attributes\":{\"axis\":{\"id\":\"1776\"},\"ticker\":null},\"id\":\"1779\",\"type\":\"Grid\"},{\"attributes\":{\"text\":\"Episode Return (Histogram)\"},\"id\":\"1766\",\"type\":\"Title\"},{\"attributes\":{},\"id\":\"1781\",\"type\":\"BasicTicker\"},{\"attributes\":{\"text\":\"Episode Return\"},\"id\":\"1727\",\"type\":\"Title\"},{\"attributes\":{\"formatter\":{\"id\":\"1869\"},\"ticker\":{\"id\":\"1781\"}},\"id\":\"1780\",\"type\":\"LinearAxis\"},{\"attributes\":{\"source\":{\"id\":\"1759\"}},\"id\":\"1763\",\"type\":\"CDSView\"},{\"attributes\":{},\"id\":\"1872\",\"type\":\"Selection\"},{\"attributes\":{\"line_color\":\"red\",\"location\":-33.38597449491934},\"id\":\"1764\",\"type\":\"Span\"},{\"attributes\":{\"data\":{\"x\":[0,1,2,3,4,5,6,7,8,9,10,11,12,13,14,15,16,17,18,19,20,21,22,23,24,25,26,27,28,29,30,31,32,33,34,35,36,37,38,39,40,41,42,43,44,45,46,47,48,49,50,51,52,53,54,55,56,57,58,59,60,61,62,63,64,65,66,67,68,69,70,71,72,73,74,75,76,77,78,79,80,81,82,83,84,85,86,87,88,89,90,91,92,93,94,95,96,97,98,99,100,101,102,103,104,105,106,107,108,109,110,111,112,113,114,115,116,117,118,119,120,121,122,123,124,125,126,127,128,129,130,131,132,133,134,135,136,137,138,139,140,141,142,143,144,145,146,147,148,149,150,151,152,153,154,155,156,157,158,159,160,161,162,163,164,165,166,167,168,169,170,171,172,173,174,175,176,177,178,179,180,181,182,183,184,185,186,187,188,189,190,191,192,193,194,195,196,197,198,199],\"y\":[-33.57643946858225,-33.923635808501786,-33.589342886090435,-34.15364920225933,-35.02087503715718,-33.85637620457887,-31.875674800280724,-32.169765025902315,-33.249663302739314,-33.265022403580176,-31.6271633360772,-34.5801755068608,-33.722157801386786,-33.71928219729045,-32.0595570531197,-33.450857760903666,-34.18522000957972,-33.773667159450135,-34.02551915499821,-31.967803121386773,-32.277505588851156,-34.19315107734804,-33.53183569899083,-33.82244715762594,-31.870343573822332,-32.24398078830611,-34.17095000572481,-35.27641417644687,-34.3137877067327,-35.25397686427736,-34.52475805962226,-32.419746527181154,-33.98484371335213,-34.45352074643868,-34.489638246743255,-33.20976134764038,-32.1575056455028,-32.863643951028166,-33.37961574040587,-33.34156192947003,-35.11066063644946,-33.3866904481167,-33.21153187776658,-33.247239566151734,-34.7664763876234,-33.136233279733474,-32.94977751893167,-33.12106080283547,-33.85328278699155,-33.50290246628366,-33.09293915259876,-33.2487053511463,-32.5527725668714,-31.99138660736091,-33.24493832291,-32.28388540675771,-31.921523119493358,-32.375042480070455,-33.29347155026783,-33.75878314627954,-35.36761981178843,-33.86157140309109,-34.933127578097185,-33.150148911600645,-32.838845355076835,-35.045252598720744,-33.41649698332734,-34.084281285688625,-34.10390068851916,-31.96707524075987,-33.12900072001921,-32.64582919833269,-33.09119502812823,-32.14265786783857,-33.138428414866446,-32.864191205967195,-33.39318210781422,-33.694042742859764,-33.8260062118233,-31.62599217877799,-33.84639287819676,-34.11779214931266,-32.30538719654368,-32.22482089818699,-34.689570682744865,-33.240157398709464,-33.656667746830905,-31.995967995918043,-33.486141937594226,-33.28028326041647,-33.8951341697046,-32.59898235720814,-32.43576708503583,-33.32569473488334,-34.45542767556738,-34.99728979188597,-33.41250914101188,-32.028930766211715,-32.67292155069464,-34.140006477170715,-32.72946908914471,-35.0651900881697,-33.438420451041495,-32.430957522840835,-32.058830603242,-33.37360979071351,-32.67157074119078,-35.2279808928551,-32.411256257014884,-34.31684085663367,-32.224945860593486,-32.38861473606248,-32.80855947750471,-34.7914046777051,-33.59576628887474,-33.48883769510234,-32.164847864621635,-33.66815596460557,-33.04211685956343,-32.71955347578069,-33.8954757048207,-32.770978423029526,-33.440674859320595,-32.774818959106256,-32.9540536737996,-33.980646143983776,-34.565818132116895,-33.28667164628597,-32.0306178501637,-34.76533030607858,-33.62167176906728,-33.675335269665375,-32.98846399717224,-33.7964360916398,-35.12055902116725,-32.063196827272456,-33.59826940991883,-33.84963474611492,-33.49585996949249,-33.597555899459486,-33.944301926547695,-33.2152318312117,-32.89939493664625,-32.69306156389041,-34.31014533276453,-34.99808742084325,-34.19086256364411,-33.52310968334841,-34.317915347823295,-33.15158866178903,-32.83245797166862,-34.21329634022876,-34.20918193652791,-33.27693696954741,-32.3329588010526,-32.74504476296807,-32.03514058504859,-33.750004708421486,-35.84989929400397,-34.208502412644144,-31.053700809414007,-32.42294585432566,-31.514227954833576,-35.860472871625916,-33.78450480679416,-32.738906356141015,-33.268038526889725,-31.96316287634965,-34.21857325194056,-33.70101741502353,-33.96095836084183,-32.098911448796244,-32.56376731678974,-32.835212164737605,-31.793911570073536,-32.82388943849553,-33.07732994709204,-31.68401478346861,-34.500205168176976,-33.3001596877876,-34.388479505814445,-32.87481601648933,-32.868143056060056,-34.38246111308983,-33.86870638211097,-32.45402475003056,-33.033173354716084,-32.69866119728722,-32.79436812304769,-33.98884169332461,-33.58809914280369,-33.56744228448011,-34.919447874612885,-33.2140246953407,-35.163186091994504,-32.4170952293583,-34.32040233985652,-33.76280443987028,-32.831354318490476,-34.564505134132645]},\"selected\":{\"id\":\"1872\"},\"selection_policy\":{\"id\":\"1873\"}},\"id\":\"1759\",\"type\":\"ColumnDataSource\"},{\"attributes\":{},\"id\":\"1873\",\"type\":\"UnionRenderers\"},{\"attributes\":{\"data_source\":{\"id\":\"1798\"},\"glyph\":{\"id\":\"1799\"},\"hover_glyph\":null,\"muted_glyph\":null,\"nonselection_glyph\":{\"id\":\"1800\"},\"selection_glyph\":null,\"view\":{\"id\":\"1802\"}},\"id\":\"1801\",\"type\":\"GlyphRenderer\"},{\"attributes\":{\"bottom_units\":\"screen\",\"fill_alpha\":0.5,\"fill_color\":\"lightgrey\",\"left_units\":\"screen\",\"level\":\"overlay\",\"line_alpha\":1.0,\"line_color\":\"black\",\"line_dash\":[4,4],\"line_width\":2,\"right_units\":\"screen\",\"top_units\":\"screen\"},\"id\":\"1751\",\"type\":\"BoxAnnotation\"},{\"attributes\":{},\"id\":\"1876\",\"type\":\"UnionRenderers\"},{\"attributes\":{\"active_drag\":\"auto\",\"active_inspect\":\"auto\",\"active_multi\":null,\"active_scroll\":\"auto\",\"active_tap\":\"auto\",\"tools\":[{\"id\":\"1745\"},{\"id\":\"1746\"},{\"id\":\"1747\"},{\"id\":\"1748\"},{\"id\":\"1749\"},{\"id\":\"1750\"}]},\"id\":\"1752\",\"type\":\"Toolbar\"},{\"attributes\":{},\"id\":\"1869\",\"type\":\"BasicTickFormatter\"},{\"attributes\":{\"line_color\":\"#1f77b4\",\"x\":{\"field\":\"x\"},\"y\":{\"field\":\"y\"}},\"id\":\"1760\",\"type\":\"Line\"},{\"attributes\":{},\"id\":\"1867\",\"type\":\"BasicTickFormatter\"},{\"attributes\":{\"bottom\":{\"value\":0},\"fill_alpha\":{\"value\":0.1},\"fill_color\":{\"value\":\"#1f77b4\"},\"left\":{\"field\":\"left\"},\"line_alpha\":{\"value\":0.1},\"line_color\":{\"value\":\"white\"},\"right\":{\"field\":\"right\"},\"top\":{\"field\":\"top\"}},\"id\":\"1800\",\"type\":\"Quad\"},{\"attributes\":{},\"id\":\"1731\",\"type\":\"DataRange1d\"},{\"attributes\":{},\"id\":\"1745\",\"type\":\"PanTool\"},{\"attributes\":{\"bottom_units\":\"screen\",\"fill_alpha\":0.5,\"fill_color\":\"lightgrey\",\"left_units\":\"screen\",\"level\":\"overlay\",\"line_alpha\":1.0,\"line_color\":\"black\",\"line_dash\":[4,4],\"line_width\":2,\"right_units\":\"screen\",\"top_units\":\"screen\"},\"id\":\"1790\",\"type\":\"BoxAnnotation\"},{\"attributes\":{\"active_drag\":\"auto\",\"active_inspect\":\"auto\",\"active_multi\":null,\"active_scroll\":\"auto\",\"active_tap\":\"auto\",\"tools\":[{\"id\":\"1784\"},{\"id\":\"1785\"},{\"id\":\"1786\"},{\"id\":\"1787\"},{\"id\":\"1788\"},{\"id\":\"1789\"}]},\"id\":\"1791\",\"type\":\"Toolbar\"},{\"attributes\":{},\"id\":\"1865\",\"type\":\"BasicTickFormatter\"},{\"attributes\":{\"line_alpha\":0.1,\"line_color\":\"#1f77b4\",\"x\":{\"field\":\"x\"},\"y\":{\"field\":\"y\"}},\"id\":\"1761\",\"type\":\"Line\"},{\"attributes\":{},\"id\":\"1733\",\"type\":\"LinearScale\"},{\"attributes\":{},\"id\":\"1746\",\"type\":\"WheelZoomTool\"},{\"attributes\":{\"data\":{\"left\":{\"__ndarray__\":\"QF2d+SPuQcCLTBXP1eFBwNU7jaSH1UHAICsFejnJQcBrGn1P67xBwLYJ9SSdsEHAAPls+k6kQcBL6OTPAJhBwJbXXKWyi0HA4MbUemR/QcArtkxQFnNBwHalxCXIZkHAwZQ8+3laQcALhLTQK05BwFZzLKbdQUHAoWKke481QcDrURxRQSlBwDZBlCbzHEHAgTAM/KQQQcDMH4TRVgRBwBYP/KYI+EDAYf5zfLrrQMCs7etRbN9AwPbcYyce00DAQczb/M/GQMCMu1PSgbpAwNaqy6czrkDAIZpDfeWhQMBsibtSl5VAwLd4MyhJiUDAAWir/fp8QMBMVyPTrHBAwJdGm6heZEDA4TUTfhBYQMAsJYtTwktAwHcUAyl0P0DAwgN7/iUzQMAM8/LT1yZAwFfiaqmJGkDAotHifjsOQMDswFpU7QFAwG5gpVM+6z/ABD+V/qHSP8CZHYWpBbo/wC78dFRpoT/AxNpk/8yIP8BauVSqMHA/wO+XRFWUVz/AhHY0APg+P8AaVSSrWyY/wA==\",\"dtype\":\"float64\",\"order\":\"little\",\"shape\":[50]},\"right\":{\"__ndarray__\":\"i0wVz9XhQcDVO42kh9VBwCArBXo5yUHAaxp9T+u8QcC2CfUknbBBwAD5bPpOpEHAS+jkzwCYQcCW11ylsotBwODG1Hpkf0HAK7ZMUBZzQcB2pcQlyGZBwMGUPPt5WkHAC4S00CtOQcBWcyym3UFBwKFipHuPNUHA61EcUUEpQcA2QZQm8xxBwIEwDPykEEHAzB+E0VYEQcAWD/ymCPhAwGH+c3y660DArO3rUWzfQMD23GMnHtNAwEHM2/zPxkDAjLtT0oG6QMDWqsunM65AwCGaQ33loUDAbIm7UpeVQMC3eDMoSYlAwAFoq/36fEDATFcj06xwQMCXRpuoXmRAwOE1E34QWEDALCWLU8JLQMB3FAMpdD9AwMIDe/4lM0DADPPy09cmQMBX4mqpiRpAwKLR4n47DkDA7MBaVO0BQMBuYKVTPus/wAQ/lf6h0j/AmR2FqQW6P8Au/HRUaaE/wMTaZP/MiD/AWrlUqjBwP8Dvl0RVlFc/wIR2NAD4Pj/AGlUkq1smP8CvMxRWvw0/wA==\",\"dtype\":\"float64\",\"order\":\"little\",\"shape\":[50]},\"top\":{\"__ndarray__\":\"iGj+gQyhuj8AAAAAAAAAAAAAAAAAAAAAAAAAAAAAAAAAAAAAAAAAAF9m/oEMoao/Zs5+Ycn4wz9mzn5hyfjDP/v/PtGnpNA/iGj+gQyhuj8AAAAAAAAAAGbOfmHJ+MM/X2b+gQyhqj+IaP6BDKHKP4ho/oEMoco/X2b+gQyhuj9VAT/Rp6TQP1UBP9GnpOA/Zs5+Ycn4wz/GzH5hyfjTP5o1PhIu9d0/iGj+gQyh2j+Smb7x6kzXP4ho/oEModo/Zs5+Ycn40z8qMz4SLvXdP5o1PhIu9d0/mjU+Ei713T+aNT4SLvXdP8bMfmHJ+MM/Zs5+Ycn4wz/d516ZuE7iP19m/oEModo/iGj+gQyhyj+IaP6BDKG6P3ebvvHqTNc/X2b+gQyhyj9VAT/Rp6TQP4ho/oEMoco/kpm+8epM1z9mzn5hyfjTP4ho/oEMobo/c2f+gQyhqj9zZ/6BDKGqP4ho/oEMobo/iGj+gQyhqj8AAAAAAAAAAAAAAAAAAAAAAAAAAAAAAABzZ/6BDKGqPw==\",\"dtype\":\"float64\",\"order\":\"little\",\"shape\":[50]}},\"selected\":{\"id\":\"1875\"},\"selection_policy\":{\"id\":\"1876\"}},\"id\":\"1798\",\"type\":\"ColumnDataSource\"},{\"attributes\":{\"below\":[{\"id\":\"1776\"}],\"center\":[{\"id\":\"1779\"},{\"id\":\"1783\"}],\"left\":[{\"id\":\"1780\"}],\"plot_height\":350,\"plot_width\":500,\"renderers\":[{\"id\":\"1801\"},{\"id\":\"1803\"}],\"title\":{\"id\":\"1766\"},\"toolbar\":{\"id\":\"1791\"},\"toolbar_location\":\"above\",\"x_range\":{\"id\":\"1768\"},\"x_scale\":{\"id\":\"1772\"},\"y_range\":{\"id\":\"1770\"},\"y_scale\":{\"id\":\"1774\"}},\"id\":\"1765\",\"subtype\":\"Figure\",\"type\":\"Plot\"},{\"attributes\":{\"dimension\":\"height\",\"line_color\":\"red\",\"location\":-33.38597449491934},\"id\":\"1803\",\"type\":\"Span\"},{\"attributes\":{},\"id\":\"1729\",\"type\":\"DataRange1d\"},{\"attributes\":{\"overlay\":{\"id\":\"1751\"}},\"id\":\"1747\",\"type\":\"BoxZoomTool\"},{\"attributes\":{},\"id\":\"1784\",\"type\":\"PanTool\"},{\"attributes\":{\"bottom\":{\"value\":0},\"fill_alpha\":{\"value\":0.5},\"fill_color\":{\"value\":\"#1f77b4\"},\"left\":{\"field\":\"left\"},\"line_alpha\":{\"value\":0.5},\"line_color\":{\"value\":\"white\"},\"right\":{\"field\":\"right\"},\"top\":{\"field\":\"top\"}},\"id\":\"1799\",\"type\":\"Quad\"},{\"attributes\":{\"source\":{\"id\":\"1798\"}},\"id\":\"1802\",\"type\":\"CDSView\"},{\"attributes\":{},\"id\":\"1748\",\"type\":\"SaveTool\"}],\"root_ids\":[\"1804\"]},\"title\":\"Bokeh Application\",\"version\":\"2.2.3\"}};\n",
       "  var render_items = [{\"docid\":\"39335f94-e121-4028-aeee-5fdedb995942\",\"root_ids\":[\"1804\"],\"roots\":{\"1804\":\"876a6cfa-d7c0-43a8-aa3b-f477d5fe87ff\"}}];\n",
       "  root.Bokeh.embed.embed_items_notebook(docs_json, render_items);\n",
       "\n",
       "  }\n",
       "  if (root.Bokeh !== undefined) {\n",
       "    embed_document(root);\n",
       "  } else {\n",
       "    var attempts = 0;\n",
       "    var timer = setInterval(function(root) {\n",
       "      if (root.Bokeh !== undefined) {\n",
       "        clearInterval(timer);\n",
       "        embed_document(root);\n",
       "      } else {\n",
       "        attempts++;\n",
       "        if (attempts > 100) {\n",
       "          clearInterval(timer);\n",
       "          console.log(\"Bokeh: ERROR: Unable to run BokehJS code because BokehJS library is missing\");\n",
       "        }\n",
       "      }\n",
       "    }, 10, root)\n",
       "  }\n",
       "})(window);"
      ],
      "application/vnd.bokehjs_exec.v0+json": ""
     },
     "metadata": {
      "application/vnd.bokehjs_exec.v0+json": {
       "id": "1804"
      }
     },
     "output_type": "display_data"
    }
   ],
   "source": [
    "NUM_EPISODES = 200\n",
    "\n",
    "episode_returns, episode_lengths = run(agent, env, NUM_EPISODES)\n",
    "\n",
    "plot_episode_total_rewards(episode_returns)"
   ]
  },
  {
   "cell_type": "markdown",
   "metadata": {},
   "source": [
    "> **Atenção**: se você obteve um pico de retorno com um valor positivo (i.e., *outlier*), execute novamente a simulação. Caso contrário, você deve ter obtido um retorno médio (vide linha vermelha) entre -34 e -33 para `NUM_EPISODES==200`."
   ]
  },
  {
   "cell_type": "markdown",
   "metadata": {},
   "source": [
    "---\n",
    "\n",
    "**<font color=\"red\">QUESTÕES:</font>**\n",
    "\n",
    "1. Qual a diferença entre o ambiente `MountainCar-v0` utilizado como exemplo na <a href=\"/lab#1.-Ambientes-no-OpenAI-Gym\" target=\"_self\">Seção 1</a> e o ambiente `MountainCarContinuous-v0` que você acabou de simular?\n",
    "2. Como você interpreta os gráficos acima `Episode Return` e `Episode Return (Histogram)` ? Como você explicaria essas variações ruidosas da recompensa total?\n",
    "3. Se você executar a simulação várias vezes, obterá resultados ligeiramente diferentes? Ao que se deve essa incerteza nos resultados?\n",
    "4. Você diria que o agente aleatório obteve uma boa performance? *Dica*: relacione os resultados obtidos com a especificação do ambiente `MountainCarContinuous-v0` (e.g., `env.spec`).\n",
    "5. Note que durante a simulação o `Episode Length` se manteve constante ao longo dos episódios. O que isso significa do ponto de vista da tarefa de RL?"
   ]
  },
  {
   "cell_type": "markdown",
   "metadata": {},
   "source": [
    "---\n",
    "**<font color=\"blue\">RESPOSTAS:</font>**"
   ]
  },
  {
   "cell_type": "markdown",
   "metadata": {},
   "source": [
    "**Questão 1:**\n",
    "\n",
    "A primeira diferença entre as versões discreta e contínua do MountainCar é com relação ao espaço de ações. Embora uma observação seja um par de número reais (e.g., `Box(2,)`) para ambos os ambientes, a representação de uma ação do agente é diferente dependendo da versão do ambiente. \n",
    "\n",
    "Para o `MountainCar-v0` as ações correspondeam aos números inteiros 0, 1 e 2 (pela documentação do problema disponível em http://gym.openai.com/envs/MountainCar-v0/ é possível inferir que esses 3 valores estão associadas à movimentação do carro para esquerda e direita, e um ação do tipo \"ponto-morto\").\n",
    "\n",
    "Já para o `MountainCarContinuous-v0` a ação é um único escalar limitado entre -1.0 e 1.0. Novamente, através da simulação ambiente e também da documentação é possível inferir que essa ação está relacionada com a movimentação do carro (valores negativos para esquerda e valores positivos para a direita)."
   ]
  },
  {
   "cell_type": "markdown",
   "metadata": {},
   "source": [
    "Você pode executar o código abaixo para relembrar os principais métodos da API do Gym para inspecionar as especificações dos espaços de observação e ação para cada ambiente:"
   ]
  },
  {
   "cell_type": "code",
   "execution_count": 21,
   "metadata": {},
   "outputs": [
    {
     "name": "stdout",
     "output_type": "stream",
     "text": [
      "=== MountainCar-v0 ===\n",
      ">> observation_space = Box(-1.2000000476837158, 0.6000000238418579, (2,), float32), low = [-1.2  -0.07], high = [0.6  0.07]\n",
      ">> action_space = Discrete(3), n = 3\n",
      "\n",
      "=== MountainCarContinuous-v0 ===\n",
      ">> observation_space = Box(-1.2000000476837158, 0.6000000238418579, (2,), float32), low = [-1.2  -0.07], high = [0.6  0.07]\n",
      ">> action_space = Box(-1.0, 1.0, (1,), float32), low = [-1.], high = [1.]\n",
      "\n"
     ]
    }
   ],
   "source": [
    "def print_env_info(env):\n",
    "\n",
    "    def get_space_info(space):\n",
    "        if isinstance(space, gym.spaces.Discrete):\n",
    "            return f\"{space}, n = {space.n}\"\n",
    "        elif isinstance(space, gym.spaces.Box):\n",
    "            return f\"{space}, low = {space.low}, high = {space.high}\"\n",
    "        else:\n",
    "            raise ValueError(f\"Space {space} is not a Box or a Dicrete space\")\n",
    "    \n",
    "    print(f\">> observation_space = {get_space_info(env.observation_space)}\")\n",
    "    print(f\">> action_space = {get_space_info(env.action_space)}\")\n",
    "\n",
    "env_discrete = gym.make(\"MountainCar-v0\")\n",
    "env_continuous = gym.make(\"MountainCarContinuous-v0\")\n",
    "\n",
    "print(\"=== MountainCar-v0 ===\")\n",
    "print_env_info(env_discrete)\n",
    "print()\n",
    "\n",
    "print(\"=== MountainCarContinuous-v0 ===\")\n",
    "print_env_info(env_continuous)\n",
    "print()"
   ]
  },
  {
   "cell_type": "markdown",
   "metadata": {},
   "source": [
    "Além disso, na parte 1 do notebook observamos que a recompensa em cada passo de interação para a versão discreta do MountainCar é -1 e o `reward_threshold==-110.0`. Isso sugere que a tarefa de controlar o carro até subir a montanha está especificado como um problema de caminho mais curto, isto é, para um agente maximizar seu retorno médio ele deve levar menos tempo até chegar ao estado terminal do ambiente (e.g., a posição da bandeira no alto da montanha).\n",
    "\n",
    "Por outro lado, na documentação do ambiente na página do OpenAI Gym para a versão contínua do MountainCar (http://gym.openai.com/envs/MountainCarContinuous-v0/) é mencionado que:\n",
    "> \"Here, the reward is greater if you spend less energy to reach the goal.\"\n",
    "\n",
    "Isso sugere que além do incentivo para se alcançar o alto da montanha, o agente deve ser cauteloso ao \"gastar\" ações, isto é, deve tentar sempre que possível escolher ações de baixo valor absoluto (lembre-se que uma ação no MountainCarContinuous é um escalar entre -1.0 e 1.0).\n",
    "\n",
    "Por fim, note que a documentação desses problemas do Gym não especifica em maiores detalhes a função de transição (i.e., como a ação de fato influencia no próximo estado) ou a função de recompensa (i.e, como o agente é penalizado ou recompensado por tomar uma ação). Isso é bastante comum em simuladores utilizados em aprendizado por reforço. Afinal, conforme discutido brevemente em aula, os algoritmos de aprendizado por reforço (model-free) não necessitam de acesso direto aos componentes do MDP, mas são capazes de aprender boas políticas apenas processando amostradas de observações e recompensas!"
   ]
  },
  {
   "cell_type": "markdown",
   "metadata": {},
   "source": [
    "**Questão 2:**\n",
    "\n",
    "Observamos no gráfico de `Episode Return` que não há nenhum padrão claro de melhoria ou degradação do desempenho do agente. Em outras palavras, o retorno de um episódio parece ser descrito por um ruído gaussiano em torno de um valor médio entre -33 e -34. Relembrando que esse resultado corresponde ao desempenho de um agente aleatório, é possível associar esse ruído simétrico à própria estocasticidade da política uniforme do agente."
   ]
  },
  {
   "cell_type": "markdown",
   "metadata": {},
   "source": [
    "**Questão 3:**\n",
    "\n",
    "A incerteza (ou nesse contexto, a variabilidade dos resultados) se deve ao fato que a trajetória (i.e., uma sequência de pares (estado, ação)) induzida pela política do agente é de fato uma variável aleatória, e consequentemente, sempre que amostrada pode gerar resultados diferentes. Lembre-se também que a política que representa a tomada de decisão do agente é por si só estocástica. Nesse sentido, o agente mesmo com uma política pré-definida pode tomar ações diferentes em um mesmo estado revisitado em diferentes momentos."
   ]
  },
  {
   "cell_type": "markdown",
   "metadata": {},
   "source": [
    "**Questão 4:**"
   ]
  },
  {
   "cell_type": "code",
   "execution_count": 22,
   "metadata": {},
   "outputs": [
    {
     "name": "stdout",
     "output_type": "stream",
     "text": [
      "=== MountainCar-v0 ===\n",
      ">> reward_threshold = -110.0, max_episode_steps = 200\n",
      "\n",
      "=== MountainCarContinuous-v0 ===\n",
      ">> reward_threshold = 90.0, max_episode_steps = 999\n",
      "\n"
     ]
    }
   ],
   "source": [
    "print(\"=== MountainCar-v0 ===\")\n",
    "print(f\">> reward_threshold = {env_discrete.spec.reward_threshold}, max_episode_steps = {env_discrete.spec.max_episode_steps}\")\n",
    "print()\n",
    "\n",
    "print(\"=== MountainCarContinuous-v0 ===\")\n",
    "print(f\">> reward_threshold = {env_continuous.spec.reward_threshold}, max_episode_steps = {env_continuous.spec.max_episode_steps}\")\n",
    "print()"
   ]
  },
  {
   "cell_type": "markdown",
   "metadata": {},
   "source": [
    "Comparando os resultados obtidos com a especificação de retorno mínimo (i.e., `env.spec.reward_threshold`) fica claro que o agente aleatório não teve um bom desempenho. Isso era de certa forma uma conclusão esperado, visto o agente aleatório não aprende com seus erros e acertos (i.e., note que o método `learn` da classe `RandomAgent` se quer foi implementado!)"
   ]
  },
  {
   "cell_type": "markdown",
   "metadata": {},
   "source": [
    "**Questão 5:**\n",
    "\n",
    "O fato do `episode_length` não se alterar ao longo dos episódios é somente mais um indício de que o agente não está melhorando sua política. Essa é uma métrica importante para se monitorar ao longo do treinamento de um agente de RL, e é frequentemente usado para *debuggar* erros nos algoritmos."
   ]
  }
 ],
 "metadata": {
  "kernelspec": {
   "display_name": "Python 3",
   "language": "python",
   "name": "python3"
  },
  "language_info": {
   "codemirror_mode": {
    "name": "ipython",
    "version": 3
   },
   "file_extension": ".py",
   "mimetype": "text/x-python",
   "name": "python",
   "nbconvert_exporter": "python",
   "pygments_lexer": "ipython3",
   "version": "3.7.7"
  }
 },
 "nbformat": 4,
 "nbformat_minor": 4
}
